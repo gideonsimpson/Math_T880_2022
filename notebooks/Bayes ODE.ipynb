{
 "cells": [
  {
   "cell_type": "code",
   "execution_count": null,
   "id": "dd264703-5a5f-44cb-894c-6ec245c84c5e",
   "metadata": {},
   "outputs": [],
   "source": [
    "using Turing\n",
    "using DifferentialEquations\n",
    "using DataFrames\n",
    "using Random\n",
    "using Distributions\n",
    "using Plots\n",
    "using StatsPlots\n",
    "using LaTeXStrings"
   ]
  },
  {
   "cell_type": "code",
   "execution_count": null,
   "id": "56d0e3fa-2533-4b6a-9ea1-e289c587b110",
   "metadata": {},
   "outputs": [],
   "source": [
    "default(xtickfont=font(14),  ytickfont=font(14), guidefont=font(14), \n",
    "    legendfontsize=12, lw=2, ms=8)"
   ]
  },
  {
   "cell_type": "code",
   "execution_count": null,
   "id": "5162532b-5f42-4498-ae7e-378f98c75524",
   "metadata": {},
   "outputs": [],
   "source": [
    "function decay_problem(du, u, p, t)\n",
    "    λ = p[1];\n",
    "    du[1] = -λ * u[1];\n",
    "end"
   ]
  },
  {
   "cell_type": "code",
   "execution_count": null,
   "id": "d24d8d63-fb3e-4bb1-9b0d-d2609ffc7111",
   "metadata": {},
   "outputs": [],
   "source": [
    "u0 = [10.];\n",
    "pᵗ = 0.3;\n",
    "prob_decay = ODEProblem(decay_problem,u0,(0.0,10.0),pᵗ)\n",
    "sol = solve(prob_decay,Tsit5())\n",
    "plot(sol)"
   ]
  },
  {
   "cell_type": "code",
   "execution_count": null,
   "id": "f1cb98a8-8c5c-4a5b-a202-f89bff14c627",
   "metadata": {},
   "outputs": [],
   "source": [
    "Δt = 0.5;\n",
    "sol_data = solve(prob_decay,Tsit5(), saveat=Δt)\n",
    "γ = 1;\n",
    "Random.seed!(100);\n",
    "y_data = Array(sol_data) + γ * randn(size(Array(sol_data)));\n",
    "plot(sol)\n",
    "scatter!(sol_data.t, y_data')"
   ]
  },
  {
   "cell_type": "code",
   "execution_count": null,
   "id": "0b010b0d-d176-4fde-baf7-568823c4038c",
   "metadata": {},
   "outputs": [],
   "source": [
    "@model function bayes_ode(y_data, prob_decay)\n",
    "    k ~ LogNormal()\n",
    "    p = [k];\n",
    "    prob_ = remake(prob_decay, p=p)\n",
    "    y_pred =  solve(prob_,Tsit5(), saveat=Δt)\n",
    "    for i in 1:length(y_pred)\n",
    "       y_data[i] ~ Normal(y_pred[i][1], γ)\n",
    "    end\n",
    "end"
   ]
  },
  {
   "cell_type": "code",
   "execution_count": null,
   "id": "cc047b05-f858-42db-b077-c6d45c9debee",
   "metadata": {},
   "outputs": [],
   "source": [
    "model = bayes_ode(y_data, prob_decay)"
   ]
  },
  {
   "cell_type": "code",
   "execution_count": null,
   "id": "f657a3b9-c1e0-4077-bc51-b68f6c81fee3",
   "metadata": {},
   "outputs": [],
   "source": [
    "chain = sample(model, HMC(0.01, 100), 10^4)"
   ]
  },
  {
   "cell_type": "code",
   "execution_count": null,
   "id": "fdb61077-669f-4f84-b7b7-250dcdd83102",
   "metadata": {},
   "outputs": [],
   "source": [
    "plot(chain)"
   ]
  },
  {
   "cell_type": "code",
   "execution_count": null,
   "id": "510a657b-19f6-43d0-b256-a348f41253c1",
   "metadata": {},
   "outputs": [],
   "source": [
    "chain_prior = sample(model, Prior(), 10^4);\n"
   ]
  },
  {
   "cell_type": "code",
   "execution_count": null,
   "id": "539365ba-983d-49f8-8766-21c63adcd833",
   "metadata": {},
   "outputs": [],
   "source": [
    "histogram(Array(chain),label=\"Posterior\")\n",
    "histogram!(Array(chain_prior), label=\"Prior\")\n",
    "xlims!(0.2, 0.4)"
   ]
  },
  {
   "cell_type": "code",
   "execution_count": null,
   "id": "59d37472-81e1-4c1f-927f-b86fd05cdecf",
   "metadata": {},
   "outputs": [],
   "source": [
    "n_samples = 100;\n",
    "Random.seed!(500);\n",
    "k_samples = Array(chain)[rand(1:length(chain), n_samples)]\n",
    "plt = plot(sol, yscale=:log10)\n",
    "for i in 1:n_samples\n",
    "    sol_ = solve(remake(prob_decay,p=[k_samples[i]]),Tsit5())\n",
    "    plot!(plt, sol_, alpha=0.1, color = \"#BBBBBB\", label=\"\")\n",
    "end\n",
    "display(plt)"
   ]
  }
 ],
 "metadata": {
  "kernelspec": {
   "display_name": "Julia 1.7.2",
   "language": "julia",
   "name": "julia-1.7"
  },
  "language_info": {
   "file_extension": ".jl",
   "mimetype": "application/julia",
   "name": "julia",
   "version": "1.7.2"
  }
 },
 "nbformat": 4,
 "nbformat_minor": 5
}
