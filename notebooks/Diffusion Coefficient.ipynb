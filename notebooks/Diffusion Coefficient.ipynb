{
 "cells": [
  {
   "cell_type": "markdown",
   "id": "d8ee6806-3f1e-4afe-a854-fcfd39e1dba3",
   "metadata": {},
   "source": [
    "# Bayesian inversion for a diffusion coefficient\n",
    "In this case, letting $p$ solve\n",
    "$$\n",
    "-\\frac{d}{dx}\\left(a(x)\\frac{dp}{dx}\\right) = f, \\quad 0<x<1,\\quad p(0) = p(1) =0,\n",
    "$$\n",
    "we have the data\n",
    "$$\n",
    "y_i = p(x_i) +\\eta_i, \\quad \\eta_i \\sim N(0, \\gamma^2).\n",
    "$$\n",
    "We wish to learn the distribution of $a(x)$ from the data.  In this example we make $a$ a log normal, with \n",
    "$$\n",
    "a(x) = e^{u(x)}\n",
    "$$\n",
    "and then put the $N(0,(-\\Delta)^{-1}))$ prior on $u$, with Dirichlet boundary conditions, making it a.s. continuous, and vanishing at $(0,1)$.  \n",
    "\n",
    "This makes use of the `Turing` module to do posterior sampling (with HMC here).  As this is dependent on automatic differentiation, certain modifications of the random field generator were needed for compatibility.\n",
    "\n",
    "The way the problem is implemented here, the prior, $\\mu_0$, really corresponds to the $\\xi_k$, in the KLSE.  The prior would have us believe:\n",
    "$$\n",
    "u = \\sum_{k=1}^\\infty \\sqrt{\\lambda_k}\\xi_k \\varphi_k(x)\n",
    "$$\n",
    "where, in particular, the $\\xi_k\\sim N(0,1)$. After truncating to only $N$ terms, what the sampler will return are M samples of $(\\xi^{(n)})_{n=1}^{M}$, where each $\\xi \\sim \\mu^y$, and the components are unlikely to be $N(0,1)$ i.i.d.  The consequence of this is that to comapre our recovered $u$ to the true $u^\\dagger$, we will need to sample this posterior and then substitute the values into the series expansion.\n",
    "\n",
    "This example also makes use of an interpolant so that $x_i$ at which we have our measurements need not coincide with the numerical mesh."
   ]
  },
  {
   "cell_type": "code",
   "execution_count": null,
   "id": "b632c22d-492e-4bb8-8497-611d1aaac8a8",
   "metadata": {
    "tags": []
   },
   "outputs": [],
   "source": [
    "using Turing\n",
    "using Random\n",
    "using Statistics\n",
    "using Distributions\n",
    "using StatsPlots\n",
    "using LaTeXStrings\n",
    "using FFTW\n",
    "using Zygote\n",
    "using DataInterpolations\n",
    "using LinearAlgebra\n",
    "using Printf"
   ]
  },
  {
   "cell_type": "code",
   "execution_count": null,
   "id": "aec78156-cacb-452f-82ec-5bb68244605e",
   "metadata": {},
   "outputs": [],
   "source": [
    "Turing.setadbackend(:zygote)"
   ]
  },
  {
   "cell_type": "code",
   "execution_count": null,
   "id": "b741ceff-85aa-4058-816c-172ac7ccff57",
   "metadata": {},
   "outputs": [],
   "source": [
    "default(xtickfont=font(12),  ytickfont=font(12), guidefont=font(12), \n",
    "    legendfontsize=10, lw=2, ms=8)"
   ]
  },
  {
   "cell_type": "code",
   "execution_count": null,
   "id": "26c3cd60-cf3a-4447-ae99-26540d9c809a",
   "metadata": {},
   "outputs": [],
   "source": [
    "function solve_bvp(a, f, Δx)\n",
    "    A = diagm(-1=> -a[2:end-1]/Δx^2, \n",
    "        0=>(a[1:end-1]+a[2:end])/Δx^2, \n",
    "        1=>-a[2:end-1]/Δx^2);\n",
    "    p = A\\f;\n",
    "    return p\n",
    "end"
   ]
  },
  {
   "cell_type": "code",
   "execution_count": null,
   "id": "4804b59e-a7db-4de2-a289-20b031a6686e",
   "metadata": {},
   "outputs": [],
   "source": [
    "N = 8;\n",
    "γ = 0.001;\n",
    "x = LinRange(0,1,N+1)|>collect;\n",
    "xx = x[2:end-1];\n",
    "Δx = x[2]-x[1];\n",
    "x_mid = x[1:end-1].+Δx/2;\n",
    "\n",
    "# recover on all points\n",
    "# x_data = copy(x);\n",
    "\n",
    "# recover on particular points\n",
    "x_data = 0:0.2:1;\n",
    "x_data = x_data[2:end-1]|>collect;\n",
    "\n",
    "n_data = length(x_data);\n",
    "\n",
    "# true value that we wish to recover\n",
    "uᵗ(x) = x*(1-x);\n",
    "aᵗ(x) = exp(uᵗ(x));\n",
    "f(x) = x^2;\n",
    "p = solve_bvp(aᵗ.(x_mid), f.(xx), Δx);\n",
    "\n",
    "# generate noisy data\n",
    "Random.seed!(500); # set a seed for reproducibility\n",
    "p_spl = LinearInterpolation(p,xx);\n",
    "y_data = @. p_spl(x_data) + γ * randn()"
   ]
  },
  {
   "cell_type": "code",
   "execution_count": null,
   "id": "ba04834a-0921-4fc0-a8c8-84835e52f112",
   "metadata": {},
   "outputs": [],
   "source": [
    "plot(xx, p)\n",
    "scatter!(x_data, y_data)"
   ]
  },
  {
   "cell_type": "code",
   "execution_count": null,
   "id": "31a76c80-cd5e-45fb-a3e2-94620b55cacf",
   "metadata": {},
   "outputs": [],
   "source": [
    "# this has been modified to be compatible with `Zygote` automatic differentiation\n",
    "\n",
    "\"\"\"\n",
    "`build_field` - Build a mean zero Gaussian random field with the (-Δ)^{-α} covariance operator in dimension one\n",
    "\n",
    "### Fields\n",
    "`ξ`   - Vector of N(0,1) values  \n",
    "`α=1` - Smoothness parameter\n",
    "\"\"\"\n",
    "function build_field(ξ; α=1.)\n",
    "    # construct the eigenvalues\n",
    "    k = 1:N;\n",
    "    λ = @. 1/(π*k)^(2*α);\n",
    "\n",
    "    # fill in the nonzero entries\n",
    "    # NOTE we need to multiply by 2 *N for FFT scaling\n",
    "    uhat = [0; @. 2 * N * sqrt(λ) * sqrt(2) * ξ; zeros(N-1)];\n",
    "\n",
    "    # invert and get the relevant imaginary part.  note that this includes the endpoints\n",
    "    u = @views [0; imag.(ifft(uhat)[N+2:end]); 0];\n",
    "    return u\n",
    "end"
   ]
  },
  {
   "cell_type": "code",
   "execution_count": null,
   "id": "eba91f48-5a86-4106-bb0a-39fbffc8a3ef",
   "metadata": {},
   "outputs": [],
   "source": [
    "@model function diffusion_coefficient_recovery(x_data, y_data)\n",
    "    ξ ~ MvNormal(zeros(N), Diagonal(ones(N)))\n",
    "    u = build_field(ξ);\n",
    "    # interpolate u onto the midpoints for the finite difference scheme\n",
    "    u_spl = LinearInterpolation(u,x);\n",
    "    u_mid = u_spl.(x_mid);\n",
    "    # get the diffusion coefficient\n",
    "    a = exp.(u_mid);\n",
    "    # solve the differential equation\n",
    "    p = solve_bvp(a, f.(xx), Δx);\n",
    "    # interpolate the solution onto the points at which we have measurements\n",
    "    p_spl = LinearInterpolation(p,xx);\n",
    "    p_pred = p_spl.(x_data);\n",
    "    \n",
    "    n_data = length(x_data)\n",
    "    for i in 1:n_data\n",
    "       y_data[i]~Normal(p_pred[i], γ)\n",
    "    end\n",
    "    \n",
    "end"
   ]
  },
  {
   "cell_type": "code",
   "execution_count": null,
   "id": "14eed51a-57bd-4457-8300-9e867b59bb38",
   "metadata": {},
   "outputs": [],
   "source": [
    "model=diffusion_coefficient_recovery(x_data,y_data)"
   ]
  },
  {
   "cell_type": "code",
   "execution_count": null,
   "id": "9f714da1-6190-44b3-a33c-85c3235b1051",
   "metadata": {},
   "outputs": [],
   "source": [
    "chain = sample(model, HMC(0.01, 10), 10^4)"
   ]
  },
  {
   "cell_type": "code",
   "execution_count": null,
   "id": "1962737d-63f1-41e3-a4a7-eb13035d9651",
   "metadata": {
    "tags": []
   },
   "outputs": [],
   "source": [
    "plot(chain)"
   ]
  },
  {
   "cell_type": "code",
   "execution_count": null,
   "id": "4b9c1426-e78e-40a5-b60e-957ee957c6e1",
   "metadata": {},
   "outputs": [],
   "source": [
    "# convert to standard array data structure\n",
    "chain_array = Array(chain);"
   ]
  },
  {
   "cell_type": "code",
   "execution_count": null,
   "id": "2de2fe7c-5787-4571-b58c-586fab3ba027",
   "metadata": {},
   "outputs": [],
   "source": [
    "size(chain_array)"
   ]
  },
  {
   "cell_type": "code",
   "execution_count": null,
   "id": "114cdee7-978c-42d5-a5ef-0f815fb1bf85",
   "metadata": {},
   "outputs": [],
   "source": [
    "# transform into u(x) samples\n",
    "u_post= zeros(length(chain), N+1);\n",
    "for i in 1:length(chain)\n",
    "   u_post[i,:] .=  build_field(chain_array[i,:]);\n",
    "end"
   ]
  },
  {
   "cell_type": "code",
   "execution_count": null,
   "id": "74530e97",
   "metadata": {},
   "outputs": [],
   "source": [
    "# transform into u(x) samples\n",
    "a_post= zeros(length(chain), N+1);\n",
    "for i in 1:length(chain)\n",
    "   a_post[i,:] .=  exp.(build_field(chain_array[i,:]));\n",
    "end"
   ]
  },
  {
   "cell_type": "code",
   "execution_count": null,
   "id": "fdf47f96-68ae-424d-973c-78b11b1ae953",
   "metadata": {},
   "outputs": [],
   "source": [
    "u_mean = mean(u_post, dims = 1)[:];\n",
    "u_var = var(u_post, dims = 1)[:];\n",
    "\n",
    "a_mean = mean(a_post, dims = 1)[:];\n",
    "a_var = var(a_post, dims = 1)[:];"
   ]
  },
  {
   "cell_type": "code",
   "execution_count": null,
   "id": "c7290dd4-1437-4e11-bd5e-1fe2e394c63b",
   "metadata": {},
   "outputs": [],
   "source": [
    "plt = plot(x, uᵗ.(x), label = \"Truth\")\n",
    "plot!(plt, x, u_mean, label = \"Posterior Mean\", ribbon = sqrt.(u_var))\n",
    "xlabel!(\"x\")\n",
    "ylabel!(\"u\")"
   ]
  },
  {
   "cell_type": "code",
   "execution_count": null,
   "id": "e1cab6e2-b7fb-44e4-acdd-e5d40bf2053e",
   "metadata": {},
   "outputs": [],
   "source": [
    "plt = plot(x, exp.(uᵗ.(x)), label = \"Truth\")\n",
    "plot!(plt, x, a_mean, label = \"Posterior Mean\", ribbon = sqrt.(a_var))\n",
    "xlabel!(\"x\")\n",
    "ylabel!(\"a = exp(u)\")"
   ]
  },
  {
   "cell_type": "code",
   "execution_count": null,
   "id": "999c7d05",
   "metadata": {},
   "outputs": [],
   "source": []
  }
 ],
 "metadata": {
  "kernelspec": {
   "display_name": "Julia 1.7.2",
   "language": "julia",
   "name": "julia-1.7"
  },
  "language_info": {
   "file_extension": ".jl",
   "mimetype": "application/julia",
   "name": "julia",
   "version": "1.7.2"
  }
 },
 "nbformat": 4,
 "nbformat_minor": 5
}
