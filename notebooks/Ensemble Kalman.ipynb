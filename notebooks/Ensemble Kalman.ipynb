{
 "cells": [
  {
   "cell_type": "markdown",
   "id": "1a5bf56c-1653-4f8d-b94a-2625a586431f",
   "metadata": {},
   "source": [
    "# Ensemble Kalman Filter\n",
    "This demonstrates the Ensemble Kalman filter for the discretized pendulum $x'' = -\\sin(x)$.  It is an analog on example 7.2 from Sullivan."
   ]
  },
  {
   "cell_type": "code",
   "execution_count": null,
   "id": "a45b1763-16e7-4eab-8a37-2273da35dec0",
   "metadata": {},
   "outputs": [],
   "source": [
    "using Plots\n",
    "using Random\n",
    "using Distributions\n",
    "using Statistics\n",
    "using Printf\n",
    "using LinearAlgebra\n",
    "using LaTeXStrings"
   ]
  },
  {
   "cell_type": "code",
   "execution_count": null,
   "id": "59f9dde5-7f16-4e77-bdbe-f5254fe3da6b",
   "metadata": {},
   "outputs": [],
   "source": [
    "default(xtickfont=font(12),  ytickfont=font(12), guidefont=font(12), \n",
    "    legendfont=font(10), lw=2,ms=4)"
   ]
  },
  {
   "cell_type": "code",
   "execution_count": null,
   "id": "6a20f1f9-d4c0-43d2-a3b1-8083fa5ed1f8",
   "metadata": {},
   "outputs": [],
   "source": [
    "Δt = 0.1;\n",
    "γ = sqrt(.5);\n",
    "f = X-> [X[1] + Δt * X[2] - Δt^2 * sin(X[1]); X[2]-Δt * sin(X[1])];\n",
    "\n",
    "H = Float64[1 0];\n",
    "R = [γ^2];\n",
    "\n",
    "# true initial condition\n",
    "Xt_0 = Float64[0; 1];\n",
    "\n",
    "E = 10^2; # size of ensemble\n",
    "\n",
    "n = 10^2; # number of steps\n",
    "\n",
    "# generate data\n",
    "Xt_path = [copy(Xt_0)];\n",
    "Random.seed!(500);\n",
    "y_data = Array{Float64}[];\n",
    "Xt = copy(Xt_0);\n",
    "for j in 1:n\n",
    "    Xt = f(Xt);\n",
    "    y = H * Xt .+ rand(Normal(0,γ));\n",
    "    push!(Xt_path, copy(Xt));\n",
    "    push!(y_data, y);\n",
    "end\n"
   ]
  },
  {
   "cell_type": "code",
   "execution_count": null,
   "id": "2773dcca-6b19-4014-9e16-ab01f872ec29",
   "metadata": {},
   "outputs": [],
   "source": [
    "# set initial condition\n",
    "Random.seed!(1000)\n",
    "X0 = randn(2, E)"
   ]
  },
  {
   "cell_type": "code",
   "execution_count": null,
   "id": "e685c08c-080d-4a23-b8c1-9ffa74c9833f",
   "metadata": {},
   "outputs": [],
   "source": [
    "plot(0:n, [X_[1] for X_ in Xt_path],label=L\"$x_n$\", legend=:bottomright)\n",
    "scatter!(1:n, [y_[1] for y_ in y_data], label=L\"$y_n$\")\n",
    "scatter!(0*ones(E), [x_ for x_ in X0[1,:]], label=\"Starting Ensemble\")\n",
    "xlabel!(L\"$n$\")"
   ]
  },
  {
   "cell_type": "code",
   "execution_count": null,
   "id": "25ef174f-c0c2-4398-828a-d779fd59a669",
   "metadata": {},
   "outputs": [],
   "source": [
    "X = copy(X0);\n",
    "# extract means and covariances\n",
    "XE = mean(X0, dims =2);\n",
    "CE = cov(X0, dims=2);\n",
    "X_path = [deepcopy(XE)];\n",
    "C_path = [deepcopy(CE)];\n",
    "D = zeros(1, E);\n",
    "    \n",
    "Random.seed!(5000);\n",
    "for i in 1:n\n",
    "    # predict\n",
    "    for e in 1:E\n",
    "        X[:,e] .= f(X[:,e]);\n",
    "    end\n",
    "    # empirical covariance after prediction\n",
    "    CE = cov(X, dims=2);\n",
    "    # data replication\n",
    "    for e in 1:E\n",
    "        D[:,e] = y_data[i] + rand(Normal(0,γ), 1,1);\n",
    "    end\n",
    "    # correct\n",
    "    K = CE * H' * inv(H * CE * H' + R)\n",
    "    for e in 1:E\n",
    "        X[:,e] = X[:,e] + K * (D[:,e] - H * X[:,e]);\n",
    "    end\n",
    "    # compute mean and covariance after correction for analysis\n",
    "    XE = mean(X, dims =2);\n",
    "    CE = cov(X, dims=2);\n",
    "    \n",
    "    push!(X_path, deepcopy(XE));\n",
    "    push!(C_path, deepcopy(CE));\n",
    "end"
   ]
  },
  {
   "cell_type": "code",
   "execution_count": null,
   "id": "63f4383e-3de1-4457-828f-2659ff10c3c5",
   "metadata": {},
   "outputs": [],
   "source": [
    "plot(0:n, [X_[1] for X_ in X_path], ribbon = sqrt.([C_[1,1] for C_ in C_path]),label=L\"$\\hat{x}_n$\")\n",
    "plot!(0:n, [X_[1] for X_ in Xt_path],label=L\"$x_n$\")\n",
    "scatter!(1:n, [y_[1] for y_ in y_data],label=L\"$y_n$\")\n",
    "ylims!(-2.5,2.5)\n",
    "xlabel!(L\"$n$\")"
   ]
  },
  {
   "cell_type": "code",
   "execution_count": null,
   "id": "65a94c6b-08ec-4f18-b5e4-d90b9f94f2d3",
   "metadata": {},
   "outputs": [],
   "source": [
    "plot(0:n, [X_[2] for X_ in X_path], ribbon = sqrt.([C_[2,2] for C_ in C_path]),label=L\"$\\hat{v}_n$\")\n",
    "plot!(0:n, [X_[2] for X_ in Xt_path], label=L\"$v_n$\")\n",
    "ylims!(-2.5,2.5)\n",
    "xlabel!(L\"$n$\")"
   ]
  },
  {
   "cell_type": "code",
   "execution_count": null,
   "id": "4572ae76-465f-4977-bc6e-7c9c8d9f0dc3",
   "metadata": {},
   "outputs": [],
   "source": []
  }
 ],
 "metadata": {
  "kernelspec": {
   "display_name": "Julia 1.7.2",
   "language": "julia",
   "name": "julia-1.7"
  },
  "language_info": {
   "file_extension": ".jl",
   "mimetype": "application/julia",
   "name": "julia",
   "version": "1.7.2"
  }
 },
 "nbformat": 4,
 "nbformat_minor": 5
}
