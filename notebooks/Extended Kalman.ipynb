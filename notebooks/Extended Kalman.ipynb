{
 "cells": [
  {
   "cell_type": "markdown",
   "id": "b7b733f4-c012-41c0-97bb-640ef5f2c409",
   "metadata": {},
   "source": [
    "# Extended Kalman Filter\n",
    "This demonstrates the Extended Kalman filter for the discretized pendulum $x'' = -\\sin(x)$.  It is an analog on example 7.2 from Sullivan."
   ]
  },
  {
   "cell_type": "code",
   "execution_count": null,
   "id": "b8ea0850-3491-4bf4-b731-d33c65622387",
   "metadata": {},
   "outputs": [],
   "source": [
    "using Plots\n",
    "using Random\n",
    "using Distributions\n",
    "using Statistics\n",
    "using Printf\n",
    "using LinearAlgebra\n",
    "using LaTeXStrings"
   ]
  },
  {
   "cell_type": "code",
   "execution_count": null,
   "id": "e5841608-aedc-44c0-9127-46f2e43885bd",
   "metadata": {},
   "outputs": [],
   "source": [
    "default(xtickfont=font(12),  ytickfont=font(12), guidefont=font(12), \n",
    "    legendfont=font(10), lw=2,ms=4)"
   ]
  },
  {
   "cell_type": "code",
   "execution_count": null,
   "id": "20968ec3-75f0-48ea-9ced-e57ff18a759e",
   "metadata": {},
   "outputs": [],
   "source": [
    "ω = 1;\n",
    "Δt = 0.1;\n",
    "γ = sqrt(.5);\n",
    "f = X-> [X[1] + Δt * X[2] - Δt^2 * sin(X[1]); X[2]-Δt * sin(X[1])];\n",
    "\n",
    "F = X-> [1 - Δt^2*cos(X[1]) Δt; -Δt * cos(X[1]) 1];\n",
    "H = Float64[1 0];\n",
    "R = [γ^2];\n",
    "\n",
    "# true initial condition\n",
    "Xt_0 = Float64[2; 0];\n",
    "\n",
    "# bad initial condition\n",
    "X0 = Float64[0;0];\n",
    "C0 = 10^10 * Float64[1 0; 0 1];\n",
    "\n",
    "n = 10^2;\n",
    "\n",
    "# generate data\n",
    "Xt_path = [copy(Xt_0)];\n",
    "Random.seed!(500);\n",
    "y_data = Array{Float64}[];\n",
    "Xt = copy(Xt_0);\n",
    "for j in 1:n\n",
    "    Xt = f(Xt);\n",
    "    y = H * Xt .+ rand(Normal(0,γ));\n",
    "    push!(Xt_path, copy(Xt));\n",
    "    push!(y_data, y);\n",
    "end\n"
   ]
  },
  {
   "cell_type": "code",
   "execution_count": null,
   "id": "b72f8e38-3372-49f2-9d40-42b372a4c227",
   "metadata": {},
   "outputs": [],
   "source": [
    "plot(0:n, [X_[1] for X_ in Xt_path],label=L\"$x_n$\")\n",
    "scatter!(1:n, [y_[1] for y_ in y_data], label=L\"$y_n$\")\n",
    "xlabel!(L\"$n$\")"
   ]
  },
  {
   "cell_type": "code",
   "execution_count": null,
   "id": "cb02058b-c461-4d6a-9634-b66c3436b238",
   "metadata": {},
   "outputs": [],
   "source": [
    "X_path = [X0];\n",
    "C_path = [C0];\n",
    "X = copy(X0);\n",
    "C = copy(C0);\n",
    "for i in 1:n\n",
    "    # predict\n",
    "    X = f(X);\n",
    "    C = F(X)*C*F(X)'; \n",
    "\n",
    "    # correct\n",
    "    S = H * C * H' + R;\n",
    "    K = C * H' * inv(S);\n",
    "    X = X + K * (y_data[i] - H *X);\n",
    "    C = C  - K * S * K';\n",
    "\n",
    "    push!(X_path, copy(X));\n",
    "    push!(C_path, copy(C));\n",
    "end"
   ]
  },
  {
   "cell_type": "code",
   "execution_count": null,
   "id": "fcaca900-e704-449c-8c79-996d5ea0b52f",
   "metadata": {},
   "outputs": [],
   "source": [
    "plot(0:n, [X_[1] for X_ in X_path], ribbon = sqrt.([C_[1,1] for C_ in C_path]),label=L\"$\\hat{x}_n$\")\n",
    "plot!(0:n, [X_[1] for X_ in Xt_path],label=L\"$x_n$\")\n",
    "scatter!(1:n, [y_[1] for y_ in y_data],label=L\"$y_n$\")\n",
    "ylims!(-2.5,2.5)\n",
    "xlabel!(L\"$n$\")"
   ]
  },
  {
   "cell_type": "code",
   "execution_count": null,
   "id": "419e6656-f334-48cd-a5e5-82bf918e6094",
   "metadata": {},
   "outputs": [],
   "source": [
    "plot(0:n, [X_[2] for X_ in X_path], ribbon = sqrt.([C_[2,2] for C_ in C_path]),label=L\"$\\hat{v}_n$\")\n",
    "plot!(0:n, [X_[2] for X_ in Xt_path], label=L\"$v_n$\")\n",
    "ylims!(-2.5,2.5)\n",
    "xlabel!(L\"$n$\")"
   ]
  }
 ],
 "metadata": {
  "kernelspec": {
   "display_name": "Julia 1.7.2",
   "language": "julia",
   "name": "julia-1.7"
  },
  "language_info": {
   "file_extension": ".jl",
   "mimetype": "application/julia",
   "name": "julia",
   "version": "1.7.2"
  }
 },
 "nbformat": 4,
 "nbformat_minor": 5
}
