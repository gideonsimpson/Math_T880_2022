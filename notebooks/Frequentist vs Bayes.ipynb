{
 "cells": [
  {
   "cell_type": "code",
   "execution_count": null,
   "id": "74492b76-798f-474a-bd40-acfcae684e29",
   "metadata": {
    "tags": []
   },
   "outputs": [],
   "source": [
    "using Turing\n",
    "using Random\n",
    "using Statistics\n",
    "using Distributions\n",
    "using StatsPlots\n",
    "using LaTeXStrings\n",
    "using DataFrames"
   ]
  },
  {
   "cell_type": "markdown",
   "id": "a594c9ec-8184-4175-9b75-bc5c7af92220",
   "metadata": {},
   "source": [
    "Recommended settings for figures.  These are chosen such that if the figure is included into a LaTeX document with approximately half the page width, the annotations will be readable when printed.\n"
   ]
  },
  {
   "cell_type": "code",
   "execution_count": null,
   "id": "88256ebe-8e5c-48a1-a0ce-814e52e6b914",
   "metadata": {},
   "outputs": [],
   "source": [
    "default(xtickfont=font(14),  ytickfont=font(14), guidefont=font(14), \n",
    "    legendfontsize=12, lw=2, ms=8)"
   ]
  },
  {
   "cell_type": "markdown",
   "id": "00be0806-0e1c-4476-87f4-b1284b77bca3",
   "metadata": {},
   "source": [
    "# Compare Frequentist and Bayesian Interpretations\n",
    "Following Example 2.55 from the text, we generate $n$ samples from the distribution $N(\\theta,1)$, and then try to infer $\\theta$ from the data."
   ]
  },
  {
   "cell_type": "code",
   "execution_count": null,
   "id": "780a8664-0a26-497b-9791-903191b2cbc8",
   "metadata": {},
   "outputs": [],
   "source": [
    "n = 100; # experiment with different values\n",
    "θₜ = 2.0; # true value\n",
    "\n",
    "Random.seed!(100); # set a seed for reproducibility\n",
    "\n",
    "data = rand(Normal(θₜ, 1),n);"
   ]
  },
  {
   "cell_type": "markdown",
   "id": "5925ab67-54db-4fe0-a649-3b8cd38f5fa2",
   "metadata": {},
   "source": [
    "## Frequentist Interpretation\n",
    "In the frequentist interpretation, the only data we can extract is a point estimate of the truth from a simple average:\n",
    "$$\n",
    "\\hat{\\theta} = \\frac{1}{n}\\sum_{i=1}^n X_i\n",
    "$$"
   ]
  },
  {
   "cell_type": "code",
   "execution_count": null,
   "id": "1219a244-351f-4759-824c-5f070aa471da",
   "metadata": {},
   "outputs": [],
   "source": [
    "@show θ̂ = mean(data);"
   ]
  },
  {
   "cell_type": "markdown",
   "id": "ef2731f3-daf1-444b-bada-8f4eb0ac07af",
   "metadata": {},
   "source": [
    "## Bayesian Interpretation\n",
    "To apply the Bayesian interpretation, we need to introduce a prior distribution, $\\pi_0$, as to what values $\\theta$ can take, then since the likelihood is\n",
    "$$\n",
    "L(y|\\theta) = \\exp\\left\\{-\\sum_{i=1}^n\\frac{1}{2}|X_i-\\theta|^2\\right\\},\n",
    "$$\n",
    "the posterior is\n",
    "$$\n",
    "\\pi(\\theta|y) \\propto  \\exp\\left\\{-\\sum_{i=1}^n\\frac{1}{2}|X_i-\\theta|^2\\right\\} \\pi_0(\\theta)\n",
    "$$\n",
    "\n",
    "In the following, we will take $\\pi_0 = N(0,1)$ (try other distributions), and then explore the posterior using the `Turing.jl` module.  For convenience, we use the `HMC` sampler which is generically pretty efficient.\n",
    "\n",
    "The `Turing.jl` framework has us formulate the problem in a _generative_ way.  Given $\\theta$, since the samples are independent, we know that each piece of data should satisfyt $X_i \\sim N(\\theta, 1)$:"
   ]
  },
  {
   "cell_type": "code",
   "execution_count": null,
   "id": "2448e349-4f8b-4a12-8528-18dbd5890a4b",
   "metadata": {},
   "outputs": [],
   "source": [
    "# define the model\n",
    "@model function bayes_example(y)\n",
    "    # this specifis the prior\n",
    "    θ ~ Normal(0,1);\n",
    "    # θ ~ Exponential(.1);\n",
    "    \n",
    "    n = length(y);\n",
    "    for i in 1:n\n",
    "        # each piece of data would satisfy this distribution conditional on θ\n",
    "        y[i]~ Normal(θ, 1) \n",
    "    end\n",
    "    \n",
    "end"
   ]
  },
  {
   "cell_type": "markdown",
   "id": "2cf6d815-1aab-432f-8ff3-4820c3b5754f",
   "metadata": {},
   "source": [
    "The module is quite rich with many features, not all of which are illustrated here.  See https://turing.ml/dev/ for additional details."
   ]
  },
  {
   "cell_type": "markdown",
   "id": "378ded45-adaa-4466-a0ba-5e1e9db4cd03",
   "metadata": {},
   "source": [
    "This samples the posterior distirbution using the HMC algorithm.  This choooses a \"step size\" of 0.1 and an integration time of 10, generating 10^4 samples.  "
   ]
  },
  {
   "cell_type": "code",
   "execution_count": null,
   "id": "236283c2-22c1-41c9-a04b-e19834849051",
   "metadata": {},
   "outputs": [],
   "source": [
    "chain = sample(bayes_example(data), HMC(0.1, 10), 10^4)"
   ]
  },
  {
   "cell_type": "markdown",
   "id": "a243401c-94ff-4432-8d08-a461322945c8",
   "metadata": {},
   "source": [
    "We can call plot on the `chain` data structure to see both the time series and an estimated density.  Notice how the time series seems to be oscillating about some sort of well characterized mean – this is what we want to see to ensure we are doing a good job of sampling the posterior."
   ]
  },
  {
   "cell_type": "code",
   "execution_count": null,
   "id": "adecd46f-7791-4c92-9c20-d99491411fec",
   "metadata": {},
   "outputs": [],
   "source": [
    "plot(chain)"
   ]
  },
  {
   "cell_type": "code",
   "execution_count": null,
   "id": "a53d6f68-6d98-4752-bef1-3d6b1deb0c8d",
   "metadata": {},
   "outputs": [],
   "source": [
    "summarize(chain)"
   ]
  },
  {
   "cell_type": "code",
   "execution_count": null,
   "id": "fc509a1b-7406-4c78-9956-3fe69bed6be7",
   "metadata": {},
   "outputs": [],
   "source": [
    "histogram(chain)"
   ]
  },
  {
   "cell_type": "markdown",
   "id": "acdba66e-76a3-4e9a-ae7f-1772de02ecfd",
   "metadata": {},
   "source": [
    "The default formatting can be overriden in the standard Julia Plots.jl way:"
   ]
  },
  {
   "cell_type": "code",
   "execution_count": null,
   "id": "f949c29b-d8e8-4f9b-b4a2-e2402acd593c",
   "metadata": {},
   "outputs": [],
   "source": [
    "histogram(chain, norm=:pdf)\n",
    "histogram!(bottom_margin=3*StatsPlots.mm)\n",
    "title!(\"\")\n",
    "xlabel!(L\"$\\theta$\")\n",
    "ylabel!(\"Probability\")"
   ]
  },
  {
   "cell_type": "markdown",
   "id": "e681d1ee-81e0-4a7a-83da-70f6d19673ba",
   "metadata": {},
   "source": [
    "Compare posterior with the prior.  First we sample the prior, then visualize."
   ]
  },
  {
   "cell_type": "code",
   "execution_count": null,
   "id": "2412e88d-18f3-4cca-a1f5-eeb710f744a9",
   "metadata": {},
   "outputs": [],
   "source": [
    "chain_prior = sample(bayes_example(data), Prior(), 10^4);\n"
   ]
  },
  {
   "cell_type": "code",
   "execution_count": null,
   "id": "7b156365-810a-4ab6-bb17-e2b16d460938",
   "metadata": {},
   "outputs": [],
   "source": [
    "histogram(chain, norm=:pdf)\n",
    "histogram!(chain_prior, norm=:pdf)\n",
    "histogram!(bottom_margin=3*StatsPlots.mm)\n",
    "title!(\"\")\n",
    "xlabel!(L\"$\\theta$\")\n",
    "ylabel!(\"Probability\")"
   ]
  },
  {
   "cell_type": "markdown",
   "id": "d06c96ea-5af3-49a1-9b3f-63846a7757f5",
   "metadata": {},
   "source": [
    "## Accessing the Samples\n",
    "The generated samples from the posterior for $\\theta$ can be obtained by first converting to a data frame and then extracting that column from the data frame."
   ]
  },
  {
   "cell_type": "code",
   "execution_count": null,
   "id": "fe21bfcb-ef38-47c3-909b-8a63cd5d58c8",
   "metadata": {},
   "outputs": [],
   "source": [
    "df = DataFrame(chain); # convert to a data frame\n",
    "posterior_samples = df[!,:θ]; # extract the column for θ"
   ]
  },
  {
   "cell_type": "code",
   "execution_count": null,
   "id": "71dcd9d4-2909-4772-bad5-7ebf79573007",
   "metadata": {},
   "outputs": [],
   "source": [
    "posterior_samples"
   ]
  },
  {
   "cell_type": "code",
   "execution_count": null,
   "id": "1936978a-dbc1-4760-92e9-7980faac87cc",
   "metadata": {},
   "outputs": [],
   "source": [
    "df"
   ]
  },
  {
   "cell_type": "code",
   "execution_count": null,
   "id": "a96d52b4-0453-4e19-bd5c-d99cc17c357b",
   "metadata": {},
   "outputs": [],
   "source": [
    "@show mean(posterior_samples);\n",
    "@show var(posterior_samples);"
   ]
  },
  {
   "cell_type": "code",
   "execution_count": null,
   "id": "1888198e-530e-4db3-a353-f03f29cc0ce8",
   "metadata": {},
   "outputs": [],
   "source": [
    "df_prior = DataFrame(chain_prior); # convert to a data frame\n",
    "prior_samples = df_prior[!,:θ]; # extract the column for θ"
   ]
  },
  {
   "cell_type": "code",
   "execution_count": null,
   "id": "8b0a6c69-bf20-4144-9408-1e8387ea7f01",
   "metadata": {},
   "outputs": [],
   "source": [
    "histogram(posterior_samples, norm=:pdf,label=\"Posterior\", legend=:topleft)\n",
    "histogram!(prior_samples, norm=:pdf,label=\"Prior\")\n",
    "xlabel!(L\"$\\theta$\")\n",
    "ylabel!(\"Probability\")"
   ]
  }
 ],
 "metadata": {
  "kernelspec": {
   "display_name": "Julia 1.7.1",
   "language": "julia",
   "name": "julia-1.7"
  },
  "language_info": {
   "file_extension": ".jl",
   "mimetype": "application/julia",
   "name": "julia",
   "version": "1.7.1"
  }
 },
 "nbformat": 4,
 "nbformat_minor": 5
}
