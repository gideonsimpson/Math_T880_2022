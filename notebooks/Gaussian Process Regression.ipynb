{
 "cells": [
  {
   "cell_type": "markdown",
   "id": "bb2ae2b5-b087-4fb9-849b-b2c5d285cb6b",
   "metadata": {},
   "source": [
    "# Gaussian Process Regression\n",
    "This corresponds to example 13.9 out of Sullivan."
   ]
  },
  {
   "cell_type": "code",
   "execution_count": null,
   "id": "af5926a2-64a0-4bdd-8a20-0d40cd72637b",
   "metadata": {},
   "outputs": [],
   "source": [
    "using Random\n",
    "using Plots\n",
    "using Statistics\n",
    "using Distributions\n",
    "using LaTeXStrings\n",
    "using LinearAlgebra"
   ]
  },
  {
   "cell_type": "code",
   "execution_count": null,
   "id": "4497a4e2-9c2e-49bc-9509-16642cd42ac1",
   "metadata": {},
   "outputs": [],
   "source": [
    "default(xtickfont=font(14),  ytickfont=font(14), guidefont=font(14), \n",
    "    legendfontsize=12, lw=2, ms=8)"
   ]
  },
  {
   "cell_type": "markdown",
   "id": "07ed4e1a-0b9c-464e-9b16-c181ffab9656",
   "metadata": {},
   "source": [
    "# Set Kernel and Mean"
   ]
  },
  {
   "cell_type": "code",
   "execution_count": null,
   "id": "6b5b9139-f366-433e-9db5-a89a87e660a3",
   "metadata": {},
   "outputs": [],
   "source": [
    "m(x) = 0;\n",
    "C(x1,x2,ℓ) = exp(-abs(x1-x2)^2/(2ℓ^2))"
   ]
  },
  {
   "cell_type": "markdown",
   "id": "971595ae-71e4-43e6-83db-4017d6a7589e",
   "metadata": {},
   "source": [
    "# Set Data"
   ]
  },
  {
   "cell_type": "code",
   "execution_count": null,
   "id": "81d36a10-60f4-4565-bd7e-b20323171181",
   "metadata": {},
   "outputs": [],
   "source": [
    "xobs = [0.1, 0.5, 0.9];\n",
    "yobs = [0.1, 0.8, 0.5];\n",
    "ℓ = 0.25\n",
    "Cobs = [C(x1_, x2_, ℓ) for x1_ in xobs, x2_ in xobs];"
   ]
  },
  {
   "cell_type": "markdown",
   "id": "4fae7cff-656c-429d-b772-b3a8ba84ea1b",
   "metadata": {},
   "source": [
    "# Predict"
   ]
  },
  {
   "cell_type": "code",
   "execution_count": null,
   "id": "191bd5cd-bedb-4462-a82f-bc64929c8a23",
   "metadata": {},
   "outputs": [],
   "source": [
    "C.(xobs, 0.4, ℓ)"
   ]
  },
  {
   "cell_type": "code",
   "execution_count": null,
   "id": "92309ae3-f754-42e4-92d1-80ee5030a024",
   "metadata": {},
   "outputs": [],
   "source": [
    "xp_vals = LinRange(0,1,100);\n",
    "Up_vals = Float64[];\n",
    "σ2p_vals = Float64[]\n",
    "for xp in xp_vals\n",
    "    Up = m(xp) + C.(xp, xobs, ℓ)' * (Cobs\\(yobs .- m(xobs)));\n",
    "    σ2p= C(xp, xp, ℓ)- C.(xp, xobs, ℓ)' *(Cobs\\C.(xp, xobs, ℓ));\n",
    "    push!(Up_vals, Up);\n",
    "    push!(σ2p_vals, σ2p);\n",
    "end"
   ]
  },
  {
   "cell_type": "code",
   "execution_count": null,
   "id": "78c723b0-ce10-4681-a4cd-6171d40db311",
   "metadata": {},
   "outputs": [],
   "source": [
    "plot(xp_vals, Up_vals, ribbon = sqrt.(σ2p_vals),label=\"GPR\")\n",
    "scatter!(xobs, yobs, label=\"Data\")\n",
    "xlabel!(L\"$x$\")"
   ]
  },
  {
   "cell_type": "markdown",
   "id": "896735fd-11cc-40e0-9569-c112fab9505b",
   "metadata": {},
   "source": [
    "# Noisy Observations"
   ]
  },
  {
   "cell_type": "code",
   "execution_count": null,
   "id": "85db3b53-9c62-4720-b0a4-4c7162e43a0c",
   "metadata": {},
   "outputs": [],
   "source": [
    "η = 0.1;\n",
    "\n",
    "Random.seed!(100);\n",
    "xobs = [0.1, 0.5, 0.9];\n",
    "yobs = [0.1, 0.8, 0.5] .+ η * randn();\n",
    "ℓ = 0.25\n",
    "\n",
    "Cobs = [C(x1_, x2_, ℓ) for x1_ in xobs, x2_ in xobs];"
   ]
  },
  {
   "cell_type": "code",
   "execution_count": null,
   "id": "443700aa-3aae-4638-9ff2-ed734cdc7425",
   "metadata": {},
   "outputs": [],
   "source": [
    "xp_vals = LinRange(0,1,100);\n",
    "Up_vals = Float64[];\n",
    "σ2p_vals = Float64[]\n",
    "for xp in xp_vals\n",
    "    Up = m(xp) + C.(xp, xobs, ℓ)' * ((Cobs + η^2 * I) \\(yobs .- m(xobs)));\n",
    "    σ2p= C(xp, xp, ℓ)- C.(xp, xobs, ℓ)' *((Cobs + η^2 * I) \\C.(xp, xobs, ℓ));\n",
    "    push!(Up_vals, Up);\n",
    "    push!(σ2p_vals, σ2p);\n",
    "end"
   ]
  },
  {
   "cell_type": "code",
   "execution_count": null,
   "id": "6e9ea9b8-9df0-4aa4-9c3f-626d35731462",
   "metadata": {},
   "outputs": [],
   "source": [
    "plot(xp_vals, Up_vals, ribbon = sqrt.(σ2p_vals),label=\"GPR\")\n",
    "scatter!(xobs, yobs, label=\"Data\")\n",
    "xlabel!(L\"$x$\")"
   ]
  }
 ],
 "metadata": {
  "kernelspec": {
   "display_name": "Julia 1.7.2",
   "language": "julia",
   "name": "julia-1.7"
  },
  "language_info": {
   "file_extension": ".jl",
   "mimetype": "application/julia",
   "name": "julia",
   "version": "1.7.2"
  }
 },
 "nbformat": 4,
 "nbformat_minor": 5
}
