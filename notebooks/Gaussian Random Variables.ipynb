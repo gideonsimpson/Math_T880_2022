{
 "cells": [
  {
   "cell_type": "markdown",
   "id": "690931e6-4752-4f42-9d5d-69f4bf35142b",
   "metadata": {},
   "source": [
    "# Sample a Gaussian Random Field\n",
    "This shows how we can sample a Gaussian random variable by FFT methods.  In this excample, the mean is zero, and the covariance is\n",
    "$$\n",
    "C = (-d^2/dx^2)^{-\\alpha} + \\text{Dirichlet Boundary Conditions}\n",
    "$$\n",
    "The eigenvalue/eigenfunction pairs are\n",
    "$$\n",
    "\\lambda_k = \\frac{1}{(\\pi k)^{2\\alpha}}, \\quad \\varphi_k(x) = \\sqrt{2}\\sin(\\pi k x)\n",
    "$$\n",
    "The parameter $\\alpha>1/2$ controls the smoothness of the field.  The output is\n",
    "$$\n",
    "u(x) = \\sum_{k=1}^\\infty \\sqrt{\\lambda_k}\\xi_k \\varphi_k(x)\n",
    "$$\n",
    "where $\\xi_k$ are i.i.d. $N(0,1)$.  "
   ]
  },
  {
   "cell_type": "code",
   "execution_count": null,
   "id": "e54133df-29d5-4ec0-893a-40f53b49ecda",
   "metadata": {},
   "outputs": [],
   "source": [
    "using FFTW\n",
    "using Plots\n",
    "using Random\n",
    "using LaTeXStrings\n",
    "using Printf"
   ]
  },
  {
   "cell_type": "code",
   "execution_count": null,
   "id": "b361cfb3-ac37-4e19-9559-7809f718a903",
   "metadata": {},
   "outputs": [],
   "source": [
    "default(xtickfont=font(14),  ytickfont=font(14), guidefont=font(14), \n",
    "    legendfontsize=12, lw=2,ms=8)"
   ]
  },
  {
   "cell_type": "code",
   "execution_count": null,
   "id": "9b5ae461-08fa-4820-b510-575543de1583",
   "metadata": {},
   "outputs": [],
   "source": [
    "\"\"\"\n",
    "`sample_field` - Sample a mean zero Gaussian random field with the (-Δ)^{-α} covariance operator in dimension one\n",
    "\n",
    "### Fields\n",
    "`ξ`   - Vector of N(0,1) values  \n",
    "`α=1` - Smoothness parameter\n",
    "\"\"\"\n",
    "function sample_field(ξ; α=1)\n",
    "    N = length(ξ)\n",
    "    \n",
    "    uhat = zeros(ComplexF64,2*N); # preallocate space\n",
    "\n",
    "    # construct the eigenvalues\n",
    "    k = 1:N;\n",
    "    λ = @. 1/(π*k)^(2*α);\n",
    "\n",
    "    # fill in the nonzero entries\n",
    "    # NOTE we need to multiply by 2 *N for FFT scaling\n",
    "    @. uhat[2:N+1] = 2 * N * sqrt(λ) * sqrt(2) * ξ;\n",
    "\n",
    "    # invert and get the relevant imaginary part\n",
    "    u = imag.(ifft(uhat))[N+2:end];\n",
    "    return u\n",
    "end"
   ]
  },
  {
   "cell_type": "code",
   "execution_count": null,
   "id": "9acb4c5a-1ef3-4a1a-87ec-ce0fd3e91ea4",
   "metadata": {},
   "outputs": [],
   "source": [
    "N = 64;\n",
    "x = LinRange(0,1,N+1)[2:end-1];\n",
    "Random.seed!(100);\n",
    "ξ = randn(N);\n",
    "u = sample_field(ξ, α=1.0)\n",
    "plot(x, u,label=\"\")\n",
    "xlabel!(L\"$x$\")\n",
    "ylabel!(L\"$u$\")"
   ]
  },
  {
   "cell_type": "code",
   "execution_count": null,
   "id": "cdec7391-168a-4bc1-a4cd-98e77dcf43f6",
   "metadata": {},
   "outputs": [],
   "source": [
    "anim = @animate for N in [8, 16, 32, 64, 128, 256, 512, 1024, 2048, 4096]\n",
    "    x = LinRange(0,1,N+1)[2:end-1];\n",
    "    Random.seed!(100);\n",
    "    ξ = randn(N);\n",
    "    u = sample_field(ξ, α=1.0)\n",
    "    plot(x, u,label=\"\")\n",
    "    xlabel!(L\"$x$\")\n",
    "    ylabel!(L\"$u$\")\n",
    "    xticks!([0.25, 0.5, 0.75])\n",
    "    title!(latexstring(@sprintf(\"\\$ N = %d\\$\", N)))\n",
    "    xlims!(0,1)\n",
    "    ylims!(-0.75, 0.75)\n",
    "end\n",
    "\n",
    "gif(anim, fps = 1)"
   ]
  },
  {
   "cell_type": "code",
   "execution_count": null,
   "id": "47510a50-659e-4a7c-a22c-d9a02ebad500",
   "metadata": {},
   "outputs": [],
   "source": [
    "N = 1024;\n",
    "x = LinRange(0,1,N+1)[2:end-1];\n",
    "Random.seed!(100);\n",
    "ξ = randn(N);\n",
    "u = sample_field(ξ, α=1.0)\n",
    "plot(x, u,label=\"Sample 1\")\n",
    "ξ = randn(N);\n",
    "u = sample_field(ξ, α=1.0)\n",
    "plot!(x, u,label=\"Sample 2\")\n",
    "ξ = randn(N);\n",
    "u = sample_field(ξ, α=1.0)\n",
    "plot!(x, u,label=\"Sample 3\")\n",
    "xlabel!(L\"$x$\")\n",
    "ylabel!(L\"$u$\")"
   ]
  }
 ],
 "metadata": {
  "kernelspec": {
   "display_name": "Julia 1.7.2",
   "language": "julia",
   "name": "julia-1.7"
  },
  "language_info": {
   "file_extension": ".jl",
   "mimetype": "application/julia",
   "name": "julia",
   "version": "1.7.2"
  }
 },
 "nbformat": 4,
 "nbformat_minor": 5
}
