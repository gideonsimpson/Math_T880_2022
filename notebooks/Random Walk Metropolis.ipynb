{
 "cells": [
  {
   "cell_type": "code",
   "execution_count": null,
   "id": "fafb3e5d-d6f2-48f9-a906-524a3b388bd5",
   "metadata": {},
   "outputs": [],
   "source": [
    "using Plots\n",
    "using Random\n",
    "using Statistics\n",
    "using Printf\n",
    "using LinearAlgebra\n",
    "using LaTeXStrings\n",
    "using QuadGK"
   ]
  },
  {
   "cell_type": "code",
   "execution_count": null,
   "id": "b976a3f2-0d59-4f74-ac36-18633637c403",
   "metadata": {},
   "outputs": [],
   "source": [
    "default(xtickfont=font(12),  ytickfont=font(12), guidefont=font(12), \n",
    "    legendfont=font(10), lw=2,ms=4)"
   ]
  },
  {
   "cell_type": "code",
   "execution_count": null,
   "id": "590fe935-535b-4142-9cbb-975618eb0cb7",
   "metadata": {},
   "outputs": [],
   "source": [
    "V(x) = (x^2-1)^2;\n",
    "β=10;\n",
    "Z = quadgk(x->exp(-β*V(x)), -Inf,Inf)[1];\n",
    "ρ(x) = exp(-β*V(x))/Z;"
   ]
  },
  {
   "cell_type": "code",
   "execution_count": null,
   "id": "63d8fbad-3343-43ab-a2d1-08ef0260f3c5",
   "metadata": {},
   "outputs": [],
   "source": [
    "xx = LinRange(-1.5, 1.5, 200);\n",
    "plot(xx, ρ.(xx),label=\"\")\n",
    "xlabel!(L\"$x$\")\n",
    "ylabel!(\"Density\")"
   ]
  },
  {
   "cell_type": "markdown",
   "id": "49cfea2a-81d9-4821-a49e-cf421d82b993",
   "metadata": {},
   "source": [
    "# Random Walk Metropolis Sampling"
   ]
  },
  {
   "cell_type": "code",
   "execution_count": null,
   "id": "269a9f02-9b12-4ad6-a2ab-d4497ba5aad1",
   "metadata": {},
   "outputs": [],
   "source": [
    "X0 = -1.;\n",
    "n_iters = 10^4;\n",
    "X_samples = Float64[];\n",
    "X = X0;\n",
    "\n",
    "σ = 1.;\n",
    "\n",
    "for j in 1:n_iters\n",
    "    Xp = X + σ * randn();\n",
    "    a = min(1, exp(β*(V(X) - V(Xp))));\n",
    "    ζ = rand();\n",
    "    if ζ <a\n",
    "       X = Xp; \n",
    "    end\n",
    "    push!(X_samples, X);\n",
    "end\n",
    "\n"
   ]
  },
  {
   "cell_type": "code",
   "execution_count": null,
   "id": "4a0545db-9eec-4437-b926-a8db66d10de8",
   "metadata": {},
   "outputs": [],
   "source": [
    "plot(1:n_iters, X_samples,label=\"Sample Trajectory\")\n",
    "xlabel!(L\"$n$\")\n",
    "ylabel!(L\"$X_n$\")"
   ]
  },
  {
   "cell_type": "code",
   "execution_count": null,
   "id": "5d5ed6b7-0a26-4330-984e-2ce8f4463a1a",
   "metadata": {},
   "outputs": [],
   "source": [
    "histogram(X_samples,nbins = 50, label=\"Samples\", norm=:pdf)\n",
    "xx = LinRange(-1.5, 1.5, 200);\n",
    "plot!(xx, ρ.(xx),label=\"Density\")\n",
    "xlabel!(L\"$x$\")\n",
    "ylabel!(\"Probability\")"
   ]
  },
  {
   "cell_type": "markdown",
   "id": "caafe81f-d999-41c2-b420-372e2de9adf3",
   "metadata": {},
   "source": [
    "# Estimate a probability of the results"
   ]
  },
  {
   "cell_type": "code",
   "execution_count": null,
   "id": "3aa09309-1dc9-490d-b04f-852e6a2c96c7",
   "metadata": {},
   "outputs": [],
   "source": [
    "f = x-> Float64((x>-0.5)*(x<0.5));\n",
    "@show mean(f.(X_samples));\n",
    "@show quadgk(ρ, -0.5, 0.5)[1];"
   ]
  }
 ],
 "metadata": {
  "kernelspec": {
   "display_name": "Julia 1.7.2",
   "language": "julia",
   "name": "julia-1.7"
  },
  "language_info": {
   "file_extension": ".jl",
   "mimetype": "application/julia",
   "name": "julia",
   "version": "1.7.2"
  }
 },
 "nbformat": 4,
 "nbformat_minor": 5
}
