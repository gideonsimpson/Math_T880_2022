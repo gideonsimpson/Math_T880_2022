{
 "cells": [
  {
   "cell_type": "code",
   "execution_count": 4,
   "id": "62ff4ca8-22be-4d8b-ac97-6164f6f9b597",
   "metadata": {},
   "outputs": [],
   "source": [
    "using Turing\n",
    "using Random\n",
    "using Statistics\n",
    "using Distributions\n",
    "using StatsPlots\n",
    "using LaTeXStrings\n",
    "using DataFrames\n",
    "using FFTW\n",
    "using Dierckx\n",
    "using Zygote"
   ]
  },
  {
   "cell_type": "code",
   "execution_count": 5,
   "id": "26ef3d27-d43a-4f90-b320-7b79abe9a0f6",
   "metadata": {},
   "outputs": [
    {
     "data": {
      "text/plain": [
       ":zygote"
      ]
     },
     "execution_count": 5,
     "metadata": {},
     "output_type": "execute_result"
    }
   ],
   "source": [
    "Turing.setadbackend(:zygote)"
   ]
  },
  {
   "cell_type": "code",
   "execution_count": 6,
   "id": "20210eda-b0a6-47c5-a1fb-a5a8b97fb934",
   "metadata": {},
   "outputs": [],
   "source": [
    "default(xtickfont=font(14),  ytickfont=font(14), guidefont=font(14), \n",
    "    legendfontsize=12, lw=2, ms=8)"
   ]
  },
  {
   "cell_type": "code",
   "execution_count": 7,
   "id": "9948b503-c4b1-442d-ad1d-7d77d5f72fcb",
   "metadata": {},
   "outputs": [
    {
     "data": {
      "text/plain": [
       "7-element Vector{Float64}:\n",
       " 0.10196632248553145\n",
       " 0.18360272059325755\n",
       " 0.20890122284291876\n",
       " 0.2559085030181507\n",
       " 0.235621878199629\n",
       " 0.1918683699620499\n",
       " 0.12004607668251802"
      ]
     },
     "execution_count": 7,
     "metadata": {},
     "output_type": "execute_result"
    }
   ],
   "source": [
    "N = 8;\n",
    "γ = 0.01;\n",
    "x = LinRange(0,1,N+1)[2:end-1];\n",
    "\n",
    "# true value that we wish to recover\n",
    "# x_data = [0.2, 0.4, 0.6, 0.8];\n",
    "# n_data = length(x_data);\n",
    "uᵗ(x) = x*(1-x);\n",
    "\n",
    "Random.seed!(500); # set a seed for reproducibility\n",
    "y_data = @. uᵗ(x) + γ * randn()"
   ]
  },
  {
   "cell_type": "code",
   "execution_count": 8,
   "id": "285e15c7-b210-431d-ae4e-bf8ea9381bb5",
   "metadata": {},
   "outputs": [
    {
     "data": {
      "image/svg+xml": [
       "<?xml version=\"1.0\" encoding=\"utf-8\"?>\n",
       "<svg xmlns=\"http://www.w3.org/2000/svg\" xmlns:xlink=\"http://www.w3.org/1999/xlink\" width=\"600\" height=\"400\" viewBox=\"0 0 2400 1600\">\n",
       "<defs>\n",
       "  <clipPath id=\"clip070\">\n",
       "    <rect x=\"0\" y=\"0\" width=\"2400\" height=\"1600\"/>\n",
       "  </clipPath>\n",
       "</defs>\n",
       "<path clip-path=\"url(#clip070)\" d=\"\n",
       "M0 1600 L2400 1600 L2400 0 L0 0  Z\n",
       "  \" fill=\"#ffffff\" fill-rule=\"evenodd\" fill-opacity=\"1\"/>\n",
       "<defs>\n",
       "  <clipPath id=\"clip071\">\n",
       "    <rect x=\"480\" y=\"0\" width=\"1681\" height=\"1600\"/>\n",
       "  </clipPath>\n",
       "</defs>\n",
       "<path clip-path=\"url(#clip070)\" d=\"\n",
       "M261.586 1460.53 L2352.76 1460.53 L2352.76 47.2441 L261.586 47.2441  Z\n",
       "  \" fill=\"#ffffff\" fill-rule=\"evenodd\" fill-opacity=\"1\"/>\n",
       "<defs>\n",
       "  <clipPath id=\"clip072\">\n",
       "    <rect x=\"261\" y=\"47\" width=\"2092\" height=\"1414\"/>\n",
       "  </clipPath>\n",
       "</defs>\n",
       "<polyline clip-path=\"url(#clip072)\" style=\"stroke:#000000; stroke-linecap:butt; stroke-linejoin:round; stroke-width:2; stroke-opacity:0.1; fill:none\" points=\"\n",
       "  518.05,1460.53 518.05,47.2441 \n",
       "  \"/>\n",
       "<polyline clip-path=\"url(#clip072)\" style=\"stroke:#000000; stroke-linecap:butt; stroke-linejoin:round; stroke-width:2; stroke-opacity:0.1; fill:none\" points=\"\n",
       "  781.091,1460.53 781.091,47.2441 \n",
       "  \"/>\n",
       "<polyline clip-path=\"url(#clip072)\" style=\"stroke:#000000; stroke-linecap:butt; stroke-linejoin:round; stroke-width:2; stroke-opacity:0.1; fill:none\" points=\"\n",
       "  1044.13,1460.53 1044.13,47.2441 \n",
       "  \"/>\n",
       "<polyline clip-path=\"url(#clip072)\" style=\"stroke:#000000; stroke-linecap:butt; stroke-linejoin:round; stroke-width:2; stroke-opacity:0.1; fill:none\" points=\"\n",
       "  1307.17,1460.53 1307.17,47.2441 \n",
       "  \"/>\n",
       "<polyline clip-path=\"url(#clip072)\" style=\"stroke:#000000; stroke-linecap:butt; stroke-linejoin:round; stroke-width:2; stroke-opacity:0.1; fill:none\" points=\"\n",
       "  1570.21,1460.53 1570.21,47.2441 \n",
       "  \"/>\n",
       "<polyline clip-path=\"url(#clip072)\" style=\"stroke:#000000; stroke-linecap:butt; stroke-linejoin:round; stroke-width:2; stroke-opacity:0.1; fill:none\" points=\"\n",
       "  1833.25,1460.53 1833.25,47.2441 \n",
       "  \"/>\n",
       "<polyline clip-path=\"url(#clip072)\" style=\"stroke:#000000; stroke-linecap:butt; stroke-linejoin:round; stroke-width:2; stroke-opacity:0.1; fill:none\" points=\"\n",
       "  2096.29,1460.53 2096.29,47.2441 \n",
       "  \"/>\n",
       "<polyline clip-path=\"url(#clip070)\" style=\"stroke:#000000; stroke-linecap:butt; stroke-linejoin:round; stroke-width:4; stroke-opacity:1; fill:none\" points=\"\n",
       "  261.586,1460.53 2352.76,1460.53 \n",
       "  \"/>\n",
       "<polyline clip-path=\"url(#clip070)\" style=\"stroke:#000000; stroke-linecap:butt; stroke-linejoin:round; stroke-width:4; stroke-opacity:1; fill:none\" points=\"\n",
       "  518.05,1460.53 518.05,1441.63 \n",
       "  \"/>\n",
       "<polyline clip-path=\"url(#clip070)\" style=\"stroke:#000000; stroke-linecap:butt; stroke-linejoin:round; stroke-width:4; stroke-opacity:1; fill:none\" points=\"\n",
       "  781.091,1460.53 781.091,1441.63 \n",
       "  \"/>\n",
       "<polyline clip-path=\"url(#clip070)\" style=\"stroke:#000000; stroke-linecap:butt; stroke-linejoin:round; stroke-width:4; stroke-opacity:1; fill:none\" points=\"\n",
       "  1044.13,1460.53 1044.13,1441.63 \n",
       "  \"/>\n",
       "<polyline clip-path=\"url(#clip070)\" style=\"stroke:#000000; stroke-linecap:butt; stroke-linejoin:round; stroke-width:4; stroke-opacity:1; fill:none\" points=\"\n",
       "  1307.17,1460.53 1307.17,1441.63 \n",
       "  \"/>\n",
       "<polyline clip-path=\"url(#clip070)\" style=\"stroke:#000000; stroke-linecap:butt; stroke-linejoin:round; stroke-width:4; stroke-opacity:1; fill:none\" points=\"\n",
       "  1570.21,1460.53 1570.21,1441.63 \n",
       "  \"/>\n",
       "<polyline clip-path=\"url(#clip070)\" style=\"stroke:#000000; stroke-linecap:butt; stroke-linejoin:round; stroke-width:4; stroke-opacity:1; fill:none\" points=\"\n",
       "  1833.25,1460.53 1833.25,1441.63 \n",
       "  \"/>\n",
       "<polyline clip-path=\"url(#clip070)\" style=\"stroke:#000000; stroke-linecap:butt; stroke-linejoin:round; stroke-width:4; stroke-opacity:1; fill:none\" points=\"\n",
       "  2096.29,1460.53 2096.29,1441.63 \n",
       "  \"/>\n",
       "<path clip-path=\"url(#clip070)\" d=\"M479.871 1500.24 Q473.551 1500.24 470.351 1506.47 Q467.191 1512.67 467.191 1525.15 Q467.191 1537.58 470.351 1543.82 Q473.551 1550.02 479.871 1550.02 Q486.23 1550.02 489.39 1543.82 Q492.59 1537.58 492.59 1525.15 Q492.59 1512.67 489.39 1506.47 Q486.23 1500.24 479.871 1500.24 M479.871 1493.75 Q490.038 1493.75 495.386 1501.82 Q500.773 1509.84 500.773 1525.15 Q500.773 1540.42 495.386 1548.48 Q490.038 1556.5 479.871 1556.5 Q469.703 1556.5 464.315 1548.48 Q458.968 1540.42 458.968 1525.15 Q458.968 1509.84 464.315 1501.82 Q469.703 1493.75 479.871 1493.75 Z\" fill=\"#000000\" fill-rule=\"evenodd\" fill-opacity=\"1\" /><path clip-path=\"url(#clip070)\" d=\"M515.154 1545.04 L523.701 1545.04 L523.701 1555.33 L515.154 1555.33 L515.154 1545.04 Z\" fill=\"#000000\" fill-rule=\"evenodd\" fill-opacity=\"1\" /><path clip-path=\"url(#clip070)\" d=\"M548.574 1548.44 L577.133 1548.44 L577.133 1555.33 L538.73 1555.33 L538.73 1548.44 Q543.389 1543.62 551.41 1535.52 Q559.471 1527.38 561.537 1525.03 Q565.466 1520.61 567.005 1517.57 Q568.585 1514.49 568.585 1511.54 Q568.585 1506.72 565.183 1503.68 Q561.82 1500.64 556.392 1500.64 Q552.544 1500.64 548.25 1501.98 Q543.996 1503.31 539.135 1506.03 L539.135 1497.76 Q544.077 1495.78 548.371 1494.77 Q552.665 1493.75 556.23 1493.75 Q565.628 1493.75 571.218 1498.45 Q576.809 1503.15 576.809 1511.01 Q576.809 1514.74 575.391 1518.1 Q574.014 1521.42 570.327 1525.96 Q569.315 1527.13 563.886 1532.76 Q558.458 1538.35 548.574 1548.44 Z\" fill=\"#000000\" fill-rule=\"evenodd\" fill-opacity=\"1\" /><path clip-path=\"url(#clip070)\" d=\"M742.08 1500.24 Q735.761 1500.24 732.561 1506.47 Q729.401 1512.67 729.401 1525.15 Q729.401 1537.58 732.561 1543.82 Q735.761 1550.02 742.08 1550.02 Q748.44 1550.02 751.6 1543.82 Q754.8 1537.58 754.8 1525.15 Q754.8 1512.67 751.6 1506.47 Q748.44 1500.24 742.08 1500.24 M742.08 1493.75 Q752.248 1493.75 757.595 1501.82 Q762.983 1509.84 762.983 1525.15 Q762.983 1540.42 757.595 1548.48 Q752.248 1556.5 742.08 1556.5 Q731.913 1556.5 726.525 1548.48 Q721.178 1540.42 721.178 1525.15 Q721.178 1509.84 726.525 1501.82 Q731.913 1493.75 742.08 1493.75 Z\" fill=\"#000000\" fill-rule=\"evenodd\" fill-opacity=\"1\" /><path clip-path=\"url(#clip070)\" d=\"M777.364 1545.04 L785.911 1545.04 L785.911 1555.33 L777.364 1555.33 L777.364 1545.04 Z\" fill=\"#000000\" fill-rule=\"evenodd\" fill-opacity=\"1\" /><path clip-path=\"url(#clip070)\" d=\"M828.527 1522.72 Q834.4 1523.97 837.682 1527.94 Q841.003 1531.91 841.003 1537.75 Q841.003 1546.7 834.846 1551.6 Q828.689 1556.5 817.346 1556.5 Q813.538 1556.5 809.487 1555.73 Q805.477 1555 801.183 1553.5 L801.183 1545.61 Q804.586 1547.59 808.637 1548.6 Q812.688 1549.62 817.103 1549.62 Q824.8 1549.62 828.81 1546.58 Q832.861 1543.54 832.861 1537.75 Q832.861 1532.4 829.094 1529.4 Q825.367 1526.36 818.683 1526.36 L811.634 1526.36 L811.634 1519.64 L819.007 1519.64 Q825.043 1519.64 828.243 1517.25 Q831.443 1514.82 831.443 1510.28 Q831.443 1505.62 828.122 1503.15 Q824.84 1500.64 818.683 1500.64 Q815.321 1500.64 811.472 1501.37 Q807.624 1502.1 803.006 1503.64 L803.006 1496.35 Q807.664 1495.05 811.715 1494.4 Q815.807 1493.75 819.412 1493.75 Q828.729 1493.75 834.157 1498.01 Q839.586 1502.22 839.586 1509.43 Q839.586 1514.45 836.709 1517.94 Q833.833 1521.38 828.527 1522.72 Z\" fill=\"#000000\" fill-rule=\"evenodd\" fill-opacity=\"1\" /><path clip-path=\"url(#clip070)\" d=\"M1004.13 1500.24 Q997.809 1500.24 994.608 1506.47 Q991.449 1512.67 991.449 1525.15 Q991.449 1537.58 994.608 1543.82 Q997.809 1550.02 1004.13 1550.02 Q1010.49 1550.02 1013.65 1543.82 Q1016.85 1537.58 1016.85 1525.15 Q1016.85 1512.67 1013.65 1506.47 Q1010.49 1500.24 1004.13 1500.24 M1004.13 1493.75 Q1014.3 1493.75 1019.64 1501.82 Q1025.03 1509.84 1025.03 1525.15 Q1025.03 1540.42 1019.64 1548.48 Q1014.3 1556.5 1004.13 1556.5 Q993.96 1556.5 988.573 1548.48 Q983.225 1540.42 983.225 1525.15 Q983.225 1509.84 988.573 1501.82 Q993.96 1493.75 1004.13 1493.75 Z\" fill=\"#000000\" fill-rule=\"evenodd\" fill-opacity=\"1\" /><path clip-path=\"url(#clip070)\" d=\"M1039.41 1545.04 L1047.96 1545.04 L1047.96 1555.33 L1039.41 1555.33 L1039.41 1545.04 Z\" fill=\"#000000\" fill-rule=\"evenodd\" fill-opacity=\"1\" /><path clip-path=\"url(#clip070)\" d=\"M1088.27 1501.98 L1067.61 1534.26 L1088.27 1534.26 L1088.27 1501.98 M1086.12 1494.85 L1096.41 1494.85 L1096.41 1534.26 L1105.04 1534.26 L1105.04 1541.07 L1096.41 1541.07 L1096.41 1555.33 L1088.27 1555.33 L1088.27 1541.07 L1060.96 1541.07 L1060.96 1533.17 L1086.12 1494.85 Z\" fill=\"#000000\" fill-rule=\"evenodd\" fill-opacity=\"1\" /><path clip-path=\"url(#clip070)\" d=\"M1268.46 1500.24 Q1262.15 1500.24 1258.94 1506.47 Q1255.79 1512.67 1255.79 1525.15 Q1255.79 1537.58 1258.94 1543.82 Q1262.15 1550.02 1268.46 1550.02 Q1274.82 1550.02 1277.98 1543.82 Q1281.18 1537.58 1281.18 1525.15 Q1281.18 1512.67 1277.98 1506.47 Q1274.82 1500.24 1268.46 1500.24 M1268.46 1493.75 Q1278.63 1493.75 1283.98 1501.82 Q1289.37 1509.84 1289.37 1525.15 Q1289.37 1540.42 1283.98 1548.48 Q1278.63 1556.5 1268.46 1556.5 Q1258.3 1556.5 1252.91 1548.48 Q1247.56 1540.42 1247.56 1525.15 Q1247.56 1509.84 1252.91 1501.82 Q1258.3 1493.75 1268.46 1493.75 Z\" fill=\"#000000\" fill-rule=\"evenodd\" fill-opacity=\"1\" /><path clip-path=\"url(#clip070)\" d=\"M1303.75 1545.04 L1312.3 1545.04 L1312.3 1555.33 L1303.75 1555.33 L1303.75 1545.04 Z\" fill=\"#000000\" fill-rule=\"evenodd\" fill-opacity=\"1\" /><path clip-path=\"url(#clip070)\" d=\"M1330.2 1494.85 L1362.32 1494.85 L1362.32 1501.73 L1337.69 1501.73 L1337.69 1516.56 Q1339.48 1515.95 1341.26 1515.67 Q1343.04 1515.35 1344.82 1515.35 Q1354.95 1515.35 1360.87 1520.9 Q1366.78 1526.44 1366.78 1535.92 Q1366.78 1545.69 1360.7 1551.11 Q1354.63 1556.5 1343.57 1556.5 Q1339.76 1556.5 1335.79 1555.85 Q1331.86 1555.21 1327.65 1553.91 L1327.65 1545.69 Q1331.29 1547.67 1335.18 1548.64 Q1339.07 1549.62 1343.41 1549.62 Q1350.41 1549.62 1354.51 1545.93 Q1358.6 1542.24 1358.6 1535.92 Q1358.6 1529.6 1354.51 1525.92 Q1350.41 1522.23 1343.41 1522.23 Q1340.13 1522.23 1336.84 1522.96 Q1333.6 1523.69 1330.2 1525.23 L1330.2 1494.85 Z\" fill=\"#000000\" fill-rule=\"evenodd\" fill-opacity=\"1\" /><path clip-path=\"url(#clip070)\" d=\"M1530.49 1500.24 Q1524.17 1500.24 1520.97 1506.47 Q1517.81 1512.67 1517.81 1525.15 Q1517.81 1537.58 1520.97 1543.82 Q1524.17 1550.02 1530.49 1550.02 Q1536.85 1550.02 1540.01 1543.82 Q1543.21 1537.58 1543.21 1525.15 Q1543.21 1512.67 1540.01 1506.47 Q1536.85 1500.24 1530.49 1500.24 M1530.49 1493.75 Q1540.66 1493.75 1546.01 1501.82 Q1551.39 1509.84 1551.39 1525.15 Q1551.39 1540.42 1546.01 1548.48 Q1540.66 1556.5 1530.49 1556.5 Q1520.32 1556.5 1514.94 1548.48 Q1509.59 1540.42 1509.59 1525.15 Q1509.59 1509.84 1514.94 1501.82 Q1520.32 1493.75 1530.49 1493.75 Z\" fill=\"#000000\" fill-rule=\"evenodd\" fill-opacity=\"1\" /><path clip-path=\"url(#clip070)\" d=\"M1565.78 1545.04 L1574.32 1545.04 L1574.32 1555.33 L1565.78 1555.33 L1565.78 1545.04 Z\" fill=\"#000000\" fill-rule=\"evenodd\" fill-opacity=\"1\" /><path clip-path=\"url(#clip070)\" d=\"M1610.66 1521.83 Q1605.15 1521.83 1601.91 1525.59 Q1598.71 1529.36 1598.71 1535.92 Q1598.71 1542.45 1601.91 1546.25 Q1605.15 1550.02 1610.66 1550.02 Q1616.17 1550.02 1619.37 1546.25 Q1622.61 1542.45 1622.61 1535.92 Q1622.61 1529.36 1619.37 1525.59 Q1616.17 1521.83 1610.66 1521.83 M1626.9 1496.18 L1626.9 1503.64 Q1623.82 1502.18 1620.67 1501.41 Q1617.55 1500.64 1614.47 1500.64 Q1606.37 1500.64 1602.07 1506.11 Q1597.82 1511.58 1597.21 1522.64 Q1599.6 1519.11 1603.21 1517.25 Q1606.81 1515.35 1611.15 1515.35 Q1620.26 1515.35 1625.53 1520.9 Q1630.83 1526.4 1630.83 1535.92 Q1630.83 1545.24 1625.32 1550.87 Q1619.81 1556.5 1610.66 1556.5 Q1600.17 1556.5 1594.62 1548.48 Q1589.07 1540.42 1589.07 1525.15 Q1589.07 1510.81 1595.87 1502.3 Q1602.68 1493.75 1614.14 1493.75 Q1617.22 1493.75 1620.34 1494.36 Q1623.5 1494.97 1626.9 1496.18 Z\" fill=\"#000000\" fill-rule=\"evenodd\" fill-opacity=\"1\" /><path clip-path=\"url(#clip070)\" d=\"M1794.46 1500.24 Q1788.14 1500.24 1784.94 1506.47 Q1781.78 1512.67 1781.78 1525.15 Q1781.78 1537.58 1784.94 1543.82 Q1788.14 1550.02 1794.46 1550.02 Q1800.82 1550.02 1803.98 1543.82 Q1807.18 1537.58 1807.18 1525.15 Q1807.18 1512.67 1803.98 1506.47 Q1800.82 1500.24 1794.46 1500.24 M1794.46 1493.75 Q1804.63 1493.75 1809.98 1501.82 Q1815.37 1509.84 1815.37 1525.15 Q1815.37 1540.42 1809.98 1548.48 Q1804.63 1556.5 1794.46 1556.5 Q1784.3 1556.5 1778.91 1548.48 Q1773.56 1540.42 1773.56 1525.15 Q1773.56 1509.84 1778.91 1501.82 Q1784.3 1493.75 1794.46 1493.75 Z\" fill=\"#000000\" fill-rule=\"evenodd\" fill-opacity=\"1\" /><path clip-path=\"url(#clip070)\" d=\"M1829.75 1545.04 L1838.29 1545.04 L1838.29 1555.33 L1829.75 1555.33 L1829.75 1545.04 Z\" fill=\"#000000\" fill-rule=\"evenodd\" fill-opacity=\"1\" /><path clip-path=\"url(#clip070)\" d=\"M1854.05 1494.85 L1892.94 1494.85 L1892.94 1498.33 L1870.99 1555.33 L1862.44 1555.33 L1883.1 1501.73 L1854.05 1501.73 L1854.05 1494.85 Z\" fill=\"#000000\" fill-rule=\"evenodd\" fill-opacity=\"1\" /><path clip-path=\"url(#clip070)\" d=\"M2056.8 1500.24 Q2050.48 1500.24 2047.28 1506.47 Q2044.12 1512.67 2044.12 1525.15 Q2044.12 1537.58 2047.28 1543.82 Q2050.48 1550.02 2056.8 1550.02 Q2063.16 1550.02 2066.31 1543.82 Q2069.52 1537.58 2069.52 1525.15 Q2069.52 1512.67 2066.31 1506.47 Q2063.16 1500.24 2056.8 1500.24 M2056.8 1493.75 Q2066.96 1493.75 2072.31 1501.82 Q2077.7 1509.84 2077.7 1525.15 Q2077.7 1540.42 2072.31 1548.48 Q2066.96 1556.5 2056.8 1556.5 Q2046.63 1556.5 2041.24 1548.48 Q2035.89 1540.42 2035.89 1525.15 Q2035.89 1509.84 2041.24 1501.82 Q2046.63 1493.75 2056.8 1493.75 Z\" fill=\"#000000\" fill-rule=\"evenodd\" fill-opacity=\"1\" /><path clip-path=\"url(#clip070)\" d=\"M2092.08 1545.04 L2100.63 1545.04 L2100.63 1555.33 L2092.08 1555.33 L2092.08 1545.04 Z\" fill=\"#000000\" fill-rule=\"evenodd\" fill-opacity=\"1\" /><path clip-path=\"url(#clip070)\" d=\"M2135.95 1526.61 Q2130.12 1526.61 2126.75 1529.73 Q2123.43 1532.85 2123.43 1538.31 Q2123.43 1543.78 2126.75 1546.9 Q2130.12 1550.02 2135.95 1550.02 Q2141.78 1550.02 2145.15 1546.9 Q2148.51 1543.74 2148.51 1538.31 Q2148.51 1532.85 2145.15 1529.73 Q2141.82 1526.61 2135.95 1526.61 M2127.77 1523.12 Q2122.5 1521.83 2119.54 1518.22 Q2116.63 1514.62 2116.63 1509.43 Q2116.63 1502.18 2121.77 1497.97 Q2126.96 1493.75 2135.95 1493.75 Q2144.98 1493.75 2150.13 1497.97 Q2155.27 1502.18 2155.27 1509.43 Q2155.27 1514.62 2152.32 1518.22 Q2149.4 1521.83 2144.17 1523.12 Q2150.09 1524.5 2153.37 1528.51 Q2156.69 1532.52 2156.69 1538.31 Q2156.69 1547.1 2151.3 1551.8 Q2145.96 1556.5 2135.95 1556.5 Q2125.94 1556.5 2120.56 1551.8 Q2115.21 1547.1 2115.21 1538.31 Q2115.21 1532.52 2118.53 1528.51 Q2121.85 1524.5 2127.77 1523.12 M2124.77 1510.2 Q2124.77 1514.9 2127.69 1517.53 Q2130.64 1520.17 2135.95 1520.17 Q2141.22 1520.17 2144.17 1517.53 Q2147.17 1514.9 2147.17 1510.2 Q2147.17 1505.5 2144.17 1502.87 Q2141.22 1500.24 2135.95 1500.24 Q2130.64 1500.24 2127.69 1502.87 Q2124.77 1505.5 2124.77 1510.2 Z\" fill=\"#000000\" fill-rule=\"evenodd\" fill-opacity=\"1\" /><polyline clip-path=\"url(#clip072)\" style=\"stroke:#000000; stroke-linecap:butt; stroke-linejoin:round; stroke-width:2; stroke-opacity:0.1; fill:none\" points=\"\n",
       "  261.586,1264.34 2352.76,1264.34 \n",
       "  \"/>\n",
       "<polyline clip-path=\"url(#clip072)\" style=\"stroke:#000000; stroke-linecap:butt; stroke-linejoin:round; stroke-width:2; stroke-opacity:0.1; fill:none\" points=\"\n",
       "  261.586,1004.51 2352.76,1004.51 \n",
       "  \"/>\n",
       "<polyline clip-path=\"url(#clip072)\" style=\"stroke:#000000; stroke-linecap:butt; stroke-linejoin:round; stroke-width:2; stroke-opacity:0.1; fill:none\" points=\"\n",
       "  261.586,744.683 2352.76,744.683 \n",
       "  \"/>\n",
       "<polyline clip-path=\"url(#clip072)\" style=\"stroke:#000000; stroke-linecap:butt; stroke-linejoin:round; stroke-width:2; stroke-opacity:0.1; fill:none\" points=\"\n",
       "  261.586,484.854 2352.76,484.854 \n",
       "  \"/>\n",
       "<polyline clip-path=\"url(#clip072)\" style=\"stroke:#000000; stroke-linecap:butt; stroke-linejoin:round; stroke-width:2; stroke-opacity:0.1; fill:none\" points=\"\n",
       "  261.586,225.026 2352.76,225.026 \n",
       "  \"/>\n",
       "<polyline clip-path=\"url(#clip070)\" style=\"stroke:#000000; stroke-linecap:butt; stroke-linejoin:round; stroke-width:4; stroke-opacity:1; fill:none\" points=\"\n",
       "  261.586,1460.53 261.586,47.2441 \n",
       "  \"/>\n",
       "<polyline clip-path=\"url(#clip070)\" style=\"stroke:#000000; stroke-linecap:butt; stroke-linejoin:round; stroke-width:4; stroke-opacity:1; fill:none\" points=\"\n",
       "  261.586,1264.34 280.484,1264.34 \n",
       "  \"/>\n",
       "<polyline clip-path=\"url(#clip070)\" style=\"stroke:#000000; stroke-linecap:butt; stroke-linejoin:round; stroke-width:4; stroke-opacity:1; fill:none\" points=\"\n",
       "  261.586,1004.51 280.484,1004.51 \n",
       "  \"/>\n",
       "<polyline clip-path=\"url(#clip070)\" style=\"stroke:#000000; stroke-linecap:butt; stroke-linejoin:round; stroke-width:4; stroke-opacity:1; fill:none\" points=\"\n",
       "  261.586,744.683 280.484,744.683 \n",
       "  \"/>\n",
       "<polyline clip-path=\"url(#clip070)\" style=\"stroke:#000000; stroke-linecap:butt; stroke-linejoin:round; stroke-width:4; stroke-opacity:1; fill:none\" points=\"\n",
       "  261.586,484.854 280.484,484.854 \n",
       "  \"/>\n",
       "<polyline clip-path=\"url(#clip070)\" style=\"stroke:#000000; stroke-linecap:butt; stroke-linejoin:round; stroke-width:4; stroke-opacity:1; fill:none\" points=\"\n",
       "  261.586,225.026 280.484,225.026 \n",
       "  \"/>\n",
       "<path clip-path=\"url(#clip070)\" d=\"M75.5406 1239.49 Q69.2212 1239.49 66.021 1245.73 Q62.8613 1251.92 62.8613 1264.4 Q62.8613 1276.84 66.021 1283.08 Q69.2212 1289.27 75.5406 1289.27 Q81.9005 1289.27 85.0602 1283.08 Q88.2604 1276.84 88.2604 1264.4 Q88.2604 1251.92 85.0602 1245.73 Q81.9005 1239.49 75.5406 1239.49 M75.5406 1233.01 Q85.7084 1233.01 91.0556 1241.07 Q96.4433 1249.09 96.4433 1264.4 Q96.4433 1279.67 91.0556 1287.73 Q85.7084 1295.76 75.5406 1295.76 Q65.3728 1295.76 59.9851 1287.73 Q54.6379 1279.67 54.6379 1264.4 Q54.6379 1249.09 59.9851 1241.07 Q65.3728 1233.01 75.5406 1233.01 Z\" fill=\"#000000\" fill-rule=\"evenodd\" fill-opacity=\"1\" /><path clip-path=\"url(#clip070)\" d=\"M110.824 1284.29 L119.371 1284.29 L119.371 1294.58 L110.824 1294.58 L110.824 1284.29 Z\" fill=\"#000000\" fill-rule=\"evenodd\" fill-opacity=\"1\" /><path clip-path=\"url(#clip070)\" d=\"M138.613 1287.69 L151.981 1287.69 L151.981 1241.55 L137.438 1244.47 L137.438 1237.02 L151.9 1234.1 L160.083 1234.1 L160.083 1287.69 L173.451 1287.69 L173.451 1294.58 L138.613 1294.58 L138.613 1287.69 Z\" fill=\"#000000\" fill-rule=\"evenodd\" fill-opacity=\"1\" /><path clip-path=\"url(#clip070)\" d=\"M197.027 1287.69 L225.586 1287.69 L225.586 1294.58 L187.184 1294.58 L187.184 1287.69 Q191.842 1282.87 199.863 1274.77 Q207.924 1266.63 209.99 1264.28 Q213.919 1259.86 215.459 1256.83 Q217.039 1253.75 217.039 1250.79 Q217.039 1245.97 213.636 1242.93 Q210.274 1239.89 204.845 1239.89 Q200.997 1239.89 196.703 1241.23 Q192.45 1242.57 187.589 1245.28 L187.589 1237.02 Q192.531 1235.03 196.825 1234.02 Q201.119 1233.01 204.683 1233.01 Q214.082 1233.01 219.672 1237.71 Q225.262 1242.4 225.262 1250.26 Q225.262 1253.99 223.844 1257.35 Q222.467 1260.67 218.781 1265.21 Q217.768 1266.39 212.34 1272.02 Q206.911 1277.61 197.027 1287.69 Z\" fill=\"#000000\" fill-rule=\"evenodd\" fill-opacity=\"1\" /><path clip-path=\"url(#clip070)\" d=\"M74.4874 979.659 Q68.168 979.659 64.9677 985.898 Q61.808 992.096 61.808 1004.57 Q61.808 1017.01 64.9677 1023.25 Q68.168 1029.44 74.4874 1029.44 Q80.8473 1029.44 84.007 1023.25 Q87.2072 1017.01 87.2072 1004.57 Q87.2072 992.096 84.007 985.898 Q80.8473 979.659 74.4874 979.659 M74.4874 973.178 Q84.6551 973.178 90.0023 981.239 Q95.39 989.26 95.39 1004.57 Q95.39 1019.84 90.0023 1027.91 Q84.6551 1035.93 74.4874 1035.93 Q64.3196 1035.93 58.9319 1027.91 Q53.5847 1019.84 53.5847 1004.57 Q53.5847 989.26 58.9319 981.239 Q64.3196 973.178 74.4874 973.178 Z\" fill=\"#000000\" fill-rule=\"evenodd\" fill-opacity=\"1\" /><path clip-path=\"url(#clip070)\" d=\"M109.771 1024.46 L118.318 1024.46 L118.318 1034.75 L109.771 1034.75 L109.771 1024.46 Z\" fill=\"#000000\" fill-rule=\"evenodd\" fill-opacity=\"1\" /><path clip-path=\"url(#clip070)\" d=\"M137.56 1027.87 L150.928 1027.87 L150.928 981.725 L136.385 984.642 L136.385 977.188 L150.847 974.272 L159.03 974.272 L159.03 1027.87 L172.398 1027.87 L172.398 1034.75 L137.56 1034.75 L137.56 1027.87 Z\" fill=\"#000000\" fill-rule=\"evenodd\" fill-opacity=\"1\" /><path clip-path=\"url(#clip070)\" d=\"M189.006 974.272 L221.13 974.272 L221.13 981.158 L196.501 981.158 L196.501 995.985 Q198.283 995.377 200.065 995.093 Q201.848 994.769 203.63 994.769 Q213.757 994.769 219.672 1000.32 Q225.586 1005.87 225.586 1015.35 Q225.586 1025.11 219.51 1030.54 Q213.433 1035.93 202.374 1035.93 Q198.567 1035.93 194.597 1035.28 Q190.667 1034.63 186.454 1033.33 L186.454 1025.11 Q190.1 1027.1 193.989 1028.07 Q197.878 1029.04 202.212 1029.04 Q209.22 1029.04 213.312 1025.35 Q217.403 1021.67 217.403 1015.35 Q217.403 1009.03 213.312 1005.34 Q209.22 1001.66 202.212 1001.66 Q198.931 1001.66 195.65 1002.38 Q192.409 1003.11 189.006 1004.65 L189.006 974.272 Z\" fill=\"#000000\" fill-rule=\"evenodd\" fill-opacity=\"1\" /><path clip-path=\"url(#clip070)\" d=\"M72.9075 719.831 Q66.5881 719.831 63.3879 726.069 Q60.2282 732.267 60.2282 744.744 Q60.2282 757.18 63.3879 763.418 Q66.5881 769.616 72.9075 769.616 Q79.2674 769.616 82.4271 763.418 Q85.6274 757.18 85.6274 744.744 Q85.6274 732.267 82.4271 726.069 Q79.2674 719.831 72.9075 719.831 M72.9075 713.349 Q83.0753 713.349 88.4225 721.411 Q93.8102 729.431 93.8102 744.744 Q93.8102 760.016 88.4225 768.077 Q83.0753 776.098 72.9075 776.098 Q62.7397 776.098 57.352 768.077 Q52.0049 760.016 52.0049 744.744 Q52.0049 729.431 57.352 721.411 Q62.7397 713.349 72.9075 713.349 Z\" fill=\"#000000\" fill-rule=\"evenodd\" fill-opacity=\"1\" /><path clip-path=\"url(#clip070)\" d=\"M108.191 764.634 L116.738 764.634 L116.738 774.923 L108.191 774.923 L108.191 764.634 Z\" fill=\"#000000\" fill-rule=\"evenodd\" fill-opacity=\"1\" /><path clip-path=\"url(#clip070)\" d=\"M135.98 768.036 L149.348 768.036 L149.348 721.897 L134.805 724.813 L134.805 717.36 L149.267 714.443 L157.45 714.443 L157.45 768.036 L170.818 768.036 L170.818 774.923 L135.98 774.923 L135.98 768.036 Z\" fill=\"#000000\" fill-rule=\"evenodd\" fill-opacity=\"1\" /><path clip-path=\"url(#clip070)\" d=\"M204.845 746.202 Q199.012 746.202 195.65 749.321 Q192.328 752.44 192.328 757.909 Q192.328 763.378 195.65 766.497 Q199.012 769.616 204.845 769.616 Q210.679 769.616 214.041 766.497 Q217.403 763.337 217.403 757.909 Q217.403 752.44 214.041 749.321 Q210.719 746.202 204.845 746.202 M196.663 742.718 Q191.396 741.422 188.439 737.817 Q185.523 734.211 185.523 729.026 Q185.523 721.775 190.667 717.562 Q195.852 713.349 204.845 713.349 Q213.879 713.349 219.024 717.562 Q224.168 721.775 224.168 729.026 Q224.168 734.211 221.211 737.817 Q218.294 741.422 213.069 742.718 Q218.983 744.096 222.264 748.106 Q225.586 752.116 225.586 757.909 Q225.586 766.7 220.198 771.399 Q214.851 776.098 204.845 776.098 Q194.84 776.098 189.452 771.399 Q184.105 766.7 184.105 757.909 Q184.105 752.116 187.427 748.106 Q190.748 744.096 196.663 742.718 M193.665 729.796 Q193.665 734.495 196.582 737.128 Q199.539 739.761 204.845 739.761 Q210.112 739.761 213.069 737.128 Q216.066 734.495 216.066 729.796 Q216.066 725.097 213.069 722.464 Q210.112 719.831 204.845 719.831 Q199.539 719.831 196.582 722.464 Q193.665 725.097 193.665 729.796 Z\" fill=\"#000000\" fill-rule=\"evenodd\" fill-opacity=\"1\" /><path clip-path=\"url(#clip070)\" d=\"M74.8925 460.002 Q68.5731 460.002 65.3728 466.24 Q62.2131 472.438 62.2131 484.915 Q62.2131 497.351 65.3728 503.59 Q68.5731 509.788 74.8925 509.788 Q81.2524 509.788 84.4121 503.59 Q87.6123 497.351 87.6123 484.915 Q87.6123 472.438 84.4121 466.24 Q81.2524 460.002 74.8925 460.002 M74.8925 453.521 Q85.0602 453.521 90.4074 461.582 Q95.7951 469.603 95.7951 484.915 Q95.7951 500.187 90.4074 508.248 Q85.0602 516.269 74.8925 516.269 Q64.7247 516.269 59.337 508.248 Q53.9898 500.187 53.9898 484.915 Q53.9898 469.603 59.337 461.582 Q64.7247 453.521 74.8925 453.521 Z\" fill=\"#000000\" fill-rule=\"evenodd\" fill-opacity=\"1\" /><path clip-path=\"url(#clip070)\" d=\"M110.176 504.805 L118.723 504.805 L118.723 515.094 L110.176 515.094 L110.176 504.805 Z\" fill=\"#000000\" fill-rule=\"evenodd\" fill-opacity=\"1\" /><path clip-path=\"url(#clip070)\" d=\"M143.596 508.208 L172.155 508.208 L172.155 515.094 L133.752 515.094 L133.752 508.208 Q138.411 503.387 146.431 495.285 Q154.493 487.143 156.559 484.793 Q160.488 480.378 162.027 477.34 Q163.607 474.261 163.607 471.304 Q163.607 466.483 160.205 463.445 Q156.842 460.407 151.414 460.407 Q147.566 460.407 143.272 461.744 Q139.018 463.081 134.157 465.795 L134.157 457.531 Q139.099 455.546 143.393 454.533 Q147.687 453.521 151.252 453.521 Q160.65 453.521 166.24 458.22 Q171.831 462.919 171.831 470.777 Q171.831 474.504 170.413 477.866 Q169.035 481.188 165.349 485.725 Q164.336 486.9 158.908 492.531 Q153.48 498.121 143.596 508.208 Z\" fill=\"#000000\" fill-rule=\"evenodd\" fill-opacity=\"1\" /><path clip-path=\"url(#clip070)\" d=\"M190.748 508.208 L204.116 508.208 L204.116 462.068 L189.574 464.985 L189.574 457.531 L204.035 454.614 L212.218 454.614 L212.218 508.208 L225.586 508.208 L225.586 515.094 L190.748 515.094 L190.748 508.208 Z\" fill=\"#000000\" fill-rule=\"evenodd\" fill-opacity=\"1\" /><path clip-path=\"url(#clip070)\" d=\"M71.8948 200.173 Q65.5754 200.173 62.3752 206.412 Q59.2155 212.61 59.2155 225.086 Q59.2155 237.523 62.3752 243.761 Q65.5754 249.959 71.8948 249.959 Q78.2547 249.959 81.4144 243.761 Q84.6146 237.523 84.6146 225.086 Q84.6146 212.61 81.4144 206.412 Q78.2547 200.173 71.8948 200.173 M71.8948 193.692 Q82.0626 193.692 87.4098 201.753 Q92.7975 209.774 92.7975 225.086 Q92.7975 240.358 87.4098 248.42 Q82.0626 256.44 71.8948 256.44 Q61.727 256.44 56.3393 248.42 Q50.9921 240.358 50.9921 225.086 Q50.9921 209.774 56.3393 201.753 Q61.727 193.692 71.8948 193.692 Z\" fill=\"#000000\" fill-rule=\"evenodd\" fill-opacity=\"1\" /><path clip-path=\"url(#clip070)\" d=\"M107.178 244.976 L115.726 244.976 L115.726 255.266 L107.178 255.266 L107.178 244.976 Z\" fill=\"#000000\" fill-rule=\"evenodd\" fill-opacity=\"1\" /><path clip-path=\"url(#clip070)\" d=\"M140.598 248.379 L169.157 248.379 L169.157 255.266 L130.754 255.266 L130.754 248.379 Q135.413 243.558 143.434 235.457 Q151.495 227.314 153.561 224.965 Q157.49 220.549 159.03 217.511 Q160.61 214.432 160.61 211.475 Q160.61 206.655 157.207 203.617 Q153.845 200.578 148.416 200.578 Q144.568 200.578 140.274 201.915 Q136.021 203.252 131.16 205.966 L131.16 197.702 Q136.102 195.717 140.396 194.705 Q144.69 193.692 148.254 193.692 Q157.652 193.692 163.243 198.391 Q168.833 203.09 168.833 210.949 Q168.833 214.675 167.415 218.038 Q166.038 221.359 162.351 225.896 Q161.339 227.071 155.911 232.702 Q150.482 238.292 140.598 248.379 Z\" fill=\"#000000\" fill-rule=\"evenodd\" fill-opacity=\"1\" /><path clip-path=\"url(#clip070)\" d=\"M208.815 201.915 L188.156 234.201 L208.815 234.201 L208.815 201.915 M206.668 194.786 L216.958 194.786 L216.958 234.201 L225.586 234.201 L225.586 241.006 L216.958 241.006 L216.958 255.266 L208.815 255.266 L208.815 241.006 L181.512 241.006 L181.512 233.107 L206.668 194.786 Z\" fill=\"#000000\" fill-rule=\"evenodd\" fill-opacity=\"1\" /><polyline clip-path=\"url(#clip072)\" style=\"stroke:#009af9; stroke-linecap:butt; stroke-linejoin:round; stroke-width:8; stroke-opacity:1; fill:none\" points=\"\n",
       "  320.77,1356.36 649.57,679.726 978.371,273.743 1307.17,138.416 1635.97,273.743 1964.77,679.726 2293.57,1356.36 \n",
       "  \"/>\n",
       "<circle clip-path=\"url(#clip072)\" cx=\"320.77\" cy=\"1420.53\" r=\"28\" fill=\"#e26f46\" fill-rule=\"evenodd\" fill-opacity=\"1\" stroke=\"#000000\" stroke-opacity=\"1\" stroke-width=\"3.2\"/>\n",
       "<circle clip-path=\"url(#clip072)\" cx=\"649.57\" cy=\"713.48\" r=\"28\" fill=\"#e26f46\" fill-rule=\"evenodd\" fill-opacity=\"1\" stroke=\"#000000\" stroke-opacity=\"1\" stroke-width=\"3.2\"/>\n",
       "<circle clip-path=\"url(#clip072)\" cx=\"978.371\" cy=\"494.371\" r=\"28\" fill=\"#e26f46\" fill-rule=\"evenodd\" fill-opacity=\"1\" stroke=\"#000000\" stroke-opacity=\"1\" stroke-width=\"3.2\"/>\n",
       "<circle clip-path=\"url(#clip072)\" cx=\"1307.17\" cy=\"87.2427\" r=\"28\" fill=\"#e26f46\" fill-rule=\"evenodd\" fill-opacity=\"1\" stroke=\"#000000\" stroke-opacity=\"1\" stroke-width=\"3.2\"/>\n",
       "<circle clip-path=\"url(#clip072)\" cx=\"1635.97\" cy=\"262.944\" r=\"28\" fill=\"#e26f46\" fill-rule=\"evenodd\" fill-opacity=\"1\" stroke=\"#000000\" stroke-opacity=\"1\" stroke-width=\"3.2\"/>\n",
       "<circle clip-path=\"url(#clip072)\" cx=\"1964.77\" cy=\"641.892\" r=\"28\" fill=\"#e26f46\" fill-rule=\"evenodd\" fill-opacity=\"1\" stroke=\"#000000\" stroke-opacity=\"1\" stroke-width=\"3.2\"/>\n",
       "<circle clip-path=\"url(#clip072)\" cx=\"2293.57\" cy=\"1263.94\" r=\"28\" fill=\"#e26f46\" fill-rule=\"evenodd\" fill-opacity=\"1\" stroke=\"#000000\" stroke-opacity=\"1\" stroke-width=\"3.2\"/>\n",
       "<path clip-path=\"url(#clip070)\" d=\"\n",
       "M1972.05 327.634 L2283.05 327.634 L2283.05 94.3536 L1972.05 94.3536  Z\n",
       "  \" fill=\"#ffffff\" fill-rule=\"evenodd\" fill-opacity=\"1\"/>\n",
       "<polyline clip-path=\"url(#clip070)\" style=\"stroke:#000000; stroke-linecap:butt; stroke-linejoin:round; stroke-width:4; stroke-opacity:1; fill:none\" points=\"\n",
       "  1972.05,327.634 2283.05,327.634 2283.05,94.3536 1972.05,94.3536 1972.05,327.634 \n",
       "  \"/>\n",
       "<polyline clip-path=\"url(#clip070)\" style=\"stroke:#009af9; stroke-linecap:butt; stroke-linejoin:round; stroke-width:6; stroke-opacity:1; fill:none\" points=\"\n",
       "  1995.29,172.114 2134.7,172.114 \n",
       "  \"/>\n",
       "<path clip-path=\"url(#clip070)\" d=\"M2178.7 201.645 Q2175.99 208.589 2173.42 210.707 Q2170.85 212.825 2166.55 212.825 L2161.44 212.825 L2161.44 207.478 L2165.19 207.478 Q2167.83 207.478 2169.29 206.228 Q2170.75 204.978 2172.52 200.325 L2173.66 197.409 L2157.93 159.145 L2164.71 159.145 L2176.86 189.561 L2189.01 159.145 L2195.78 159.145 L2178.7 201.645 Z\" fill=\"#000000\" fill-rule=\"evenodd\" fill-opacity=\"1\" /><path clip-path=\"url(#clip070)\" d=\"M2206.72 192.131 L2218.18 192.131 L2218.18 152.582 L2205.71 155.082 L2205.71 148.694 L2218.11 146.194 L2225.12 146.194 L2225.12 192.131 L2236.58 192.131 L2236.58 198.034 L2206.72 198.034 L2206.72 192.131 Z\" fill=\"#000000\" fill-rule=\"evenodd\" fill-opacity=\"1\" /><circle clip-path=\"url(#clip070)\" cx=\"2064.99\" cy=\"249.874\" r=\"34\" fill=\"#e26f46\" fill-rule=\"evenodd\" fill-opacity=\"1\" stroke=\"#000000\" stroke-opacity=\"1\" stroke-width=\"3.84\"/>\n",
       "<path clip-path=\"url(#clip070)\" d=\"M2178.7 279.405 Q2175.99 286.349 2173.42 288.467 Q2170.85 290.585 2166.55 290.585 L2161.44 290.585 L2161.44 285.238 L2165.19 285.238 Q2167.83 285.238 2169.29 283.988 Q2170.75 282.738 2172.52 278.085 L2173.66 275.169 L2157.93 236.905 L2164.71 236.905 L2176.86 267.321 L2189.01 236.905 L2195.78 236.905 L2178.7 279.405 Z\" fill=\"#000000\" fill-rule=\"evenodd\" fill-opacity=\"1\" /><path clip-path=\"url(#clip070)\" d=\"M2211.55 269.891 L2236.02 269.891 L2236.02 275.794 L2203.11 275.794 L2203.11 269.891 Q2207.1 265.759 2213.98 258.814 Q2220.89 251.835 2222.66 249.821 Q2226.02 246.037 2227.34 243.433 Q2228.7 240.794 2228.7 238.259 Q2228.7 234.127 2225.78 231.523 Q2222.9 228.919 2218.25 228.919 Q2214.95 228.919 2211.27 230.065 Q2207.62 231.21 2203.45 233.537 L2203.45 226.454 Q2207.69 224.752 2211.37 223.884 Q2215.05 223.016 2218.11 223.016 Q2226.16 223.016 2230.95 227.044 Q2235.75 231.072 2235.75 237.808 Q2235.75 241.002 2234.53 243.884 Q2233.35 246.731 2230.19 250.62 Q2229.32 251.627 2224.67 256.453 Q2220.02 261.245 2211.55 269.891 Z\" fill=\"#000000\" fill-rule=\"evenodd\" fill-opacity=\"1\" /></svg>\n"
      ]
     },
     "execution_count": 8,
     "metadata": {},
     "output_type": "execute_result"
    }
   ],
   "source": [
    "plot(x, uᵗ.(x))\n",
    "scatter!(x, y_data)"
   ]
  },
  {
   "cell_type": "code",
   "execution_count": 9,
   "id": "4c0e80ba-ae61-43d9-854c-3b7c942c54ee",
   "metadata": {},
   "outputs": [
    {
     "data": {
      "text/plain": [
       "build_field (generic function with 1 method)"
      ]
     },
     "execution_count": 9,
     "metadata": {},
     "output_type": "execute_result"
    }
   ],
   "source": [
    "\"\"\"\n",
    "`build_field` - Build a mean zero Gaussian random field with the (-Δ)^{-α} covariance operator in dimension one\n",
    "\n",
    "### Fields\n",
    "`ξ`   - Vector of N(0,1) values  \n",
    "`α=1` - Smoothness parameter\n",
    "\"\"\"\n",
    "# function build_field(ξ;α=one(eltype(ξ)))\n",
    "#     N = length(ξ)\n",
    "    \n",
    "#     # uhat = zeros(complex(eltype(ξ)),2*N); # preallocate space\n",
    "\n",
    "#     # construct the eigenvalues\n",
    "#     k = 1:N;\n",
    "#     λ = @. 1/(π*k)^(2*α);\n",
    "\n",
    "#     # fill in the nonzero entries\n",
    "#     # NOTE we need to multiply by 2 *N for FFT scaling\n",
    "#     # @. uhat[2:N+1] = 2 * N * sqrt(λ) * sqrt(2) * ξ;\n",
    "    \n",
    "#     uhat = [0;  2 * N * sqrt.(λ) * sqrt(2) .* ξ; zeros(N - 1)]\n",
    "\n",
    "\n",
    "#     # invert and get the relevant imaginary part\n",
    "#     u = @views imag.(ifft(uhat))[N+2:end];\n",
    "#     return u\n",
    "# end\n",
    "\n",
    "function build_field(ξ; α=one(eltype(ξ)))\n",
    "    N = length(ξ)\n",
    "    \n",
    "    # construct the eigenvalues\n",
    "    πk = π * (1:N);\n",
    "    # NOTE we need to multiply by 2 *N for FFT scaling\n",
    "    c = 2N * sqrt(2)\n",
    "    umid = @. c * ξ / πk^α;\n",
    "    uhat = [0; umid; zeros(N - 1)]\n",
    "\n",
    "    # invert and get the relevant imaginary part\n",
    "    u = @views imag.(ifft(uhat)[N+2:end]);\n",
    "    return u\n",
    "end"
   ]
  },
  {
   "cell_type": "code",
   "execution_count": 10,
   "id": "ec821e44-30e1-4829-9c65-8db9b84fae02",
   "metadata": {},
   "outputs": [
    {
     "data": {
      "text/plain": [
       "mean_recovery (generic function with 1 method)"
      ]
     },
     "execution_count": 10,
     "metadata": {},
     "output_type": "execute_result"
    }
   ],
   "source": [
    "@model function mean_recovery(y_data)\n",
    "    ξ ~ MvNormal(zeros(N), 1.)\n",
    "    u = build_field(ξ);\n",
    "    \n",
    "    for i in 1:length(y_data)\n",
    "       y_data[i]~Normal(u[i], γ)\n",
    "    end\n",
    "    \n",
    "end"
   ]
  },
  {
   "cell_type": "code",
   "execution_count": 11,
   "id": "3ce6dde8-9b47-4a44-b508-9d1f1d2be652",
   "metadata": {},
   "outputs": [
    {
     "data": {
      "text/plain": [
       "DynamicPPL.Model{var\"#2#3\", (:y_data,), (), (), Tuple{Vector{Float64}}, Tuple{}}(:mean_recovery, var\"#2#3\"(), (y_data = [0.10196632248553145, 0.18360272059325755, 0.20890122284291876, 0.2559085030181507, 0.235621878199629, 0.1918683699620499, 0.12004607668251802],), NamedTuple())"
      ]
     },
     "execution_count": 11,
     "metadata": {},
     "output_type": "execute_result"
    }
   ],
   "source": [
    "model=mean_recovery(y_data)"
   ]
  },
  {
   "cell_type": "code",
   "execution_count": 12,
   "id": "a2ea3af0-e9a2-4b8f-bef8-c79ad91c5d91",
   "metadata": {},
   "outputs": [
    {
     "ename": "LoadError",
     "evalue": "type DataType has no field mutable",
     "output_type": "error",
     "traceback": [
      "type DataType has no field mutable",
      "",
      "Stacktrace:",
      "  [1] getproperty",
      "    @ ./Base.jl:37 [inlined]",
      "  [2] adjoint",
      "    @ ~/.julia/packages/Zygote/zowrf/src/lib/lib.jl:281 [inlined]",
      "  [3] _pullback",
      "    @ ~/.julia/packages/ZygoteRules/AIbCs/src/adjoint.jl:65 [inlined]",
      "  [4] _pullback",
      "    @ ~/.julia/packages/DynamicPPL/SgzCy/src/varinfo.jl:48 [inlined]",
      "  [5] _pullback(::Zygote.Context, ::Type{DynamicPPL.Metadata{Dict{AbstractPPL.VarName{:ξ, Tuple{}}, Int64}, Vector{IsoNormal}, Vector{AbstractPPL.VarName{:ξ, Tuple{}}}, Vector{Float64}, Vector{Set{DynamicPPL.Selector}}}}, ::Dict{AbstractPPL.VarName{:ξ, Tuple{}}, Int64}, ::Vector{AbstractPPL.VarName{:ξ, Tuple{}}}, ::Vector{UnitRange{Int64}}, ::Vector{Float64}, ::Vector{IsoNormal}, ::Vector{Set{DynamicPPL.Selector}}, ::Vector{Int64}, ::Dict{String, BitVector})",
      "    @ Zygote ~/.julia/packages/Zygote/zowrf/src/compiler/interface2.jl:0",
      "  [6] _pullback",
      "    @ ~/.julia/packages/DynamicPPL/SgzCy/src/varinfo.jl:48 [inlined]",
      "  [7] _pullback(::Zygote.Context, ::Type{DynamicPPL.Metadata}, ::Dict{AbstractPPL.VarName{:ξ, Tuple{}}, Int64}, ::Vector{AbstractPPL.VarName{:ξ, Tuple{}}}, ::Vector{UnitRange{Int64}}, ::Vector{Float64}, ::Vector{IsoNormal}, ::Vector{Set{DynamicPPL.Selector}}, ::Vector{Int64}, ::Dict{String, BitVector})",
      "    @ Zygote ~/.julia/packages/Zygote/zowrf/src/compiler/interface2.jl:0",
      "  [8] macro expansion",
      "    @ ~/.julia/packages/DynamicPPL/SgzCy/src/varinfo.jl:0 [inlined]",
      "  [9] _pullback",
      "    @ ~/.julia/packages/DynamicPPL/SgzCy/src/varinfo.jl:140 [inlined]",
      " [10] _pullback(::Zygote.Context, ::typeof(DynamicPPL.newmetadata), ::NamedTuple{(:ξ,), Tuple{DynamicPPL.Metadata{Dict{AbstractPPL.VarName{:ξ, Tuple{}}, Int64}, Vector{IsoNormal}, Vector{AbstractPPL.VarName{:ξ, Tuple{}}}, Vector{Float64}, Vector{Set{DynamicPPL.Selector}}}}}, ::Val{()}, ::Vector{Float64})",
      "    @ Zygote ~/.julia/packages/Zygote/zowrf/src/compiler/interface2.jl:0",
      " [11] _pullback",
      "    @ ~/.julia/packages/DynamicPPL/SgzCy/src/varinfo.jl:115 [inlined]",
      " [12] _pullback(::Zygote.Context, ::Type{DynamicPPL.VarInfo}, ::DynamicPPL.TypedVarInfo{NamedTuple{(:ξ,), Tuple{DynamicPPL.Metadata{Dict{AbstractPPL.VarName{:ξ, Tuple{}}, Int64}, Vector{IsoNormal}, Vector{AbstractPPL.VarName{:ξ, Tuple{}}}, Vector{Float64}, Vector{Set{DynamicPPL.Selector}}}}}, Float64}, ::DynamicPPL.Sampler{HMC{Turing.Core.ZygoteAD, (), AdvancedHMC.UnitEuclideanMetric}}, ::Vector{Float64})",
      "    @ Zygote ~/.julia/packages/Zygote/zowrf/src/compiler/interface2.jl:0",
      " [13] _pullback",
      "    @ ~/.julia/packages/Turing/uAz5c/src/core/ad.jl:164 [inlined]",
      " [14] _pullback(ctx::Zygote.Context, f::Turing.Core.var\"#f#9\"{DynamicPPL.TypedVarInfo{NamedTuple{(:ξ,), Tuple{DynamicPPL.Metadata{Dict{AbstractPPL.VarName{:ξ, Tuple{}}, Int64}, Vector{IsoNormal}, Vector{AbstractPPL.VarName{:ξ, Tuple{}}}, Vector{Float64}, Vector{Set{DynamicPPL.Selector}}}}}, Float64}, DynamicPPL.Model{var\"#2#3\", (:y_data,), (), (), Tuple{Vector{Float64}}, Tuple{}}, DynamicPPL.Sampler{HMC{Turing.Core.ZygoteAD, (), AdvancedHMC.UnitEuclideanMetric}}, DynamicPPL.DefaultContext}, args::Vector{Float64})",
      "    @ Zygote ~/.julia/packages/Zygote/zowrf/src/compiler/interface2.jl:0",
      " [15] _pullback(f::Function, args::Vector{Float64})",
      "    @ Zygote ~/.julia/packages/Zygote/zowrf/src/compiler/interface.jl:34",
      " [16] pullback(f::Function, args::Vector{Float64})",
      "    @ Zygote ~/.julia/packages/Zygote/zowrf/src/compiler/interface.jl:40",
      " [17] gradient_logp(backend::Turing.Core.ZygoteAD, θ::Vector{Float64}, vi::DynamicPPL.TypedVarInfo{NamedTuple{(:ξ,), Tuple{DynamicPPL.Metadata{Dict{AbstractPPL.VarName{:ξ, Tuple{}}, Int64}, Vector{IsoNormal}, Vector{AbstractPPL.VarName{:ξ, Tuple{}}}, Vector{Float64}, Vector{Set{DynamicPPL.Selector}}}}}, Float64}, model::DynamicPPL.Model{var\"#2#3\", (:y_data,), (), (), Tuple{Vector{Float64}}, Tuple{}}, sampler::DynamicPPL.Sampler{HMC{Turing.Core.ZygoteAD, (), AdvancedHMC.UnitEuclideanMetric}}, context::DynamicPPL.DefaultContext)",
      "    @ Turing.Core ~/.julia/packages/Turing/uAz5c/src/core/ad.jl:170",
      " [18] gradient_logp(θ::Vector{Float64}, vi::DynamicPPL.TypedVarInfo{NamedTuple{(:ξ,), Tuple{DynamicPPL.Metadata{Dict{AbstractPPL.VarName{:ξ, Tuple{}}, Int64}, Vector{IsoNormal}, Vector{AbstractPPL.VarName{:ξ, Tuple{}}}, Vector{Float64}, Vector{Set{DynamicPPL.Selector}}}}}, Float64}, model::DynamicPPL.Model{var\"#2#3\", (:y_data,), (), (), Tuple{Vector{Float64}}, Tuple{}}, sampler::DynamicPPL.Sampler{HMC{Turing.Core.ZygoteAD, (), AdvancedHMC.UnitEuclideanMetric}}, ctx::DynamicPPL.DefaultContext) (repeats 2 times)",
      "    @ Turing.Core ~/.julia/packages/Turing/uAz5c/src/core/ad.jl:83",
      " [19] (::Turing.Inference.var\"#∂logπ∂θ#53\"{DynamicPPL.TypedVarInfo{NamedTuple{(:ξ,), Tuple{DynamicPPL.Metadata{Dict{AbstractPPL.VarName{:ξ, Tuple{}}, Int64}, Vector{IsoNormal}, Vector{AbstractPPL.VarName{:ξ, Tuple{}}}, Vector{Float64}, Vector{Set{DynamicPPL.Selector}}}}}, Float64}, DynamicPPL.Sampler{HMC{Turing.Core.ZygoteAD, (), AdvancedHMC.UnitEuclideanMetric}}, DynamicPPL.Model{var\"#2#3\", (:y_data,), (), (), Tuple{Vector{Float64}}, Tuple{}}})(x::Vector{Float64})",
      "    @ Turing.Inference ~/.julia/packages/Turing/uAz5c/src/inference/hmc.jl:482",
      " [20] ∂H∂θ(h::AdvancedHMC.Hamiltonian{AdvancedHMC.UnitEuclideanMetric{Float64, Tuple{Int64}}, Turing.Inference.var\"#logπ#54\"{DynamicPPL.TypedVarInfo{NamedTuple{(:ξ,), Tuple{DynamicPPL.Metadata{Dict{AbstractPPL.VarName{:ξ, Tuple{}}, Int64}, Vector{IsoNormal}, Vector{AbstractPPL.VarName{:ξ, Tuple{}}}, Vector{Float64}, Vector{Set{DynamicPPL.Selector}}}}}, Float64}, DynamicPPL.Sampler{HMC{Turing.Core.ZygoteAD, (), AdvancedHMC.UnitEuclideanMetric}}, DynamicPPL.Model{var\"#2#3\", (:y_data,), (), (), Tuple{Vector{Float64}}, Tuple{}}}, Turing.Inference.var\"#∂logπ∂θ#53\"{DynamicPPL.TypedVarInfo{NamedTuple{(:ξ,), Tuple{DynamicPPL.Metadata{Dict{AbstractPPL.VarName{:ξ, Tuple{}}, Int64}, Vector{IsoNormal}, Vector{AbstractPPL.VarName{:ξ, Tuple{}}}, Vector{Float64}, Vector{Set{DynamicPPL.Selector}}}}}, Float64}, DynamicPPL.Sampler{HMC{Turing.Core.ZygoteAD, (), AdvancedHMC.UnitEuclideanMetric}}, DynamicPPL.Model{var\"#2#3\", (:y_data,), (), (), Tuple{Vector{Float64}}, Tuple{}}}}, θ::Vector{Float64})",
      "    @ AdvancedHMC ~/.julia/packages/AdvancedHMC/MIxdK/src/hamiltonian.jl:31",
      " [21] phasepoint(h::AdvancedHMC.Hamiltonian{AdvancedHMC.UnitEuclideanMetric{Float64, Tuple{Int64}}, Turing.Inference.var\"#logπ#54\"{DynamicPPL.TypedVarInfo{NamedTuple{(:ξ,), Tuple{DynamicPPL.Metadata{Dict{AbstractPPL.VarName{:ξ, Tuple{}}, Int64}, Vector{IsoNormal}, Vector{AbstractPPL.VarName{:ξ, Tuple{}}}, Vector{Float64}, Vector{Set{DynamicPPL.Selector}}}}}, Float64}, DynamicPPL.Sampler{HMC{Turing.Core.ZygoteAD, (), AdvancedHMC.UnitEuclideanMetric}}, DynamicPPL.Model{var\"#2#3\", (:y_data,), (), (), Tuple{Vector{Float64}}, Tuple{}}}, Turing.Inference.var\"#∂logπ∂θ#53\"{DynamicPPL.TypedVarInfo{NamedTuple{(:ξ,), Tuple{DynamicPPL.Metadata{Dict{AbstractPPL.VarName{:ξ, Tuple{}}, Int64}, Vector{IsoNormal}, Vector{AbstractPPL.VarName{:ξ, Tuple{}}}, Vector{Float64}, Vector{Set{DynamicPPL.Selector}}}}}, Float64}, DynamicPPL.Sampler{HMC{Turing.Core.ZygoteAD, (), AdvancedHMC.UnitEuclideanMetric}}, DynamicPPL.Model{var\"#2#3\", (:y_data,), (), (), Tuple{Vector{Float64}}, Tuple{}}}}, θ::Vector{Float64}, r::Vector{Float64})",
      "    @ AdvancedHMC ~/.julia/packages/AdvancedHMC/MIxdK/src/hamiltonian.jl:69",
      " [22] phasepoint(rng::Random._GLOBAL_RNG, θ::Vector{Float64}, h::AdvancedHMC.Hamiltonian{AdvancedHMC.UnitEuclideanMetric{Float64, Tuple{Int64}}, Turing.Inference.var\"#logπ#54\"{DynamicPPL.TypedVarInfo{NamedTuple{(:ξ,), Tuple{DynamicPPL.Metadata{Dict{AbstractPPL.VarName{:ξ, Tuple{}}, Int64}, Vector{IsoNormal}, Vector{AbstractPPL.VarName{:ξ, Tuple{}}}, Vector{Float64}, Vector{Set{DynamicPPL.Selector}}}}}, Float64}, DynamicPPL.Sampler{HMC{Turing.Core.ZygoteAD, (), AdvancedHMC.UnitEuclideanMetric}}, DynamicPPL.Model{var\"#2#3\", (:y_data,), (), (), Tuple{Vector{Float64}}, Tuple{}}}, Turing.Inference.var\"#∂logπ∂θ#53\"{DynamicPPL.TypedVarInfo{NamedTuple{(:ξ,), Tuple{DynamicPPL.Metadata{Dict{AbstractPPL.VarName{:ξ, Tuple{}}, Int64}, Vector{IsoNormal}, Vector{AbstractPPL.VarName{:ξ, Tuple{}}}, Vector{Float64}, Vector{Set{DynamicPPL.Selector}}}}}, Float64}, DynamicPPL.Sampler{HMC{Turing.Core.ZygoteAD, (), AdvancedHMC.UnitEuclideanMetric}}, DynamicPPL.Model{var\"#2#3\", (:y_data,), (), (), Tuple{Vector{Float64}}, Tuple{}}}})",
      "    @ AdvancedHMC ~/.julia/packages/AdvancedHMC/MIxdK/src/hamiltonian.jl:139",
      " [23] initialstep(rng::Random._GLOBAL_RNG, model::DynamicPPL.Model{var\"#2#3\", (:y_data,), (), (), Tuple{Vector{Float64}}, Tuple{}}, spl::DynamicPPL.Sampler{HMC{Turing.Core.ZygoteAD, (), AdvancedHMC.UnitEuclideanMetric}}, vi::DynamicPPL.TypedVarInfo{NamedTuple{(:ξ,), Tuple{DynamicPPL.Metadata{Dict{AbstractPPL.VarName{:ξ, Tuple{}}, Int64}, Vector{IsoNormal}, Vector{AbstractPPL.VarName{:ξ, Tuple{}}}, Vector{Float64}, Vector{Set{DynamicPPL.Selector}}}}}, Float64}; init_params::Nothing, nadapts::Int64, kwargs::Base.Pairs{Symbol, Union{}, Tuple{}, NamedTuple{(), Tuple{}}})",
      "    @ Turing.Inference ~/.julia/packages/Turing/uAz5c/src/inference/hmc.jl:174",
      " [24] initialstep(rng::Random._GLOBAL_RNG, model::DynamicPPL.Model{var\"#2#3\", (:y_data,), (), (), Tuple{Vector{Float64}}, Tuple{}}, spl::DynamicPPL.Sampler{HMC{Turing.Core.ZygoteAD, (), AdvancedHMC.UnitEuclideanMetric}}, vi::DynamicPPL.TypedVarInfo{NamedTuple{(:ξ,), Tuple{DynamicPPL.Metadata{Dict{AbstractPPL.VarName{:ξ, Tuple{}}, Int64}, Vector{IsoNormal}, Vector{AbstractPPL.VarName{:ξ, Tuple{}}}, Vector{Float64}, Vector{Set{DynamicPPL.Selector}}}}}, Float64})",
      "    @ Turing.Inference ~/.julia/packages/Turing/uAz5c/src/inference/hmc.jl:160",
      " [25] step(rng::Random._GLOBAL_RNG, model::DynamicPPL.Model{var\"#2#3\", (:y_data,), (), (), Tuple{Vector{Float64}}, Tuple{}}, spl::DynamicPPL.Sampler{HMC{Turing.Core.ZygoteAD, (), AdvancedHMC.UnitEuclideanMetric}}; resume_from::Nothing, kwargs::Base.Pairs{Symbol, Union{}, Tuple{}, NamedTuple{(), Tuple{}}})",
      "    @ DynamicPPL ~/.julia/packages/DynamicPPL/SgzCy/src/sampler.jl:91",
      " [26] step",
      "    @ ~/.julia/packages/DynamicPPL/SgzCy/src/sampler.jl:66 [inlined]",
      " [27] macro expansion",
      "    @ ~/.julia/packages/AbstractMCMC/oou1a/src/sample.jl:97 [inlined]",
      " [28] macro expansion",
      "    @ ~/.julia/packages/ProgressLogging/6KXlp/src/ProgressLogging.jl:328 [inlined]",
      " [29] (::AbstractMCMC.var\"#20#21\"{Bool, String, Nothing, Int64, Int64, Base.Pairs{Symbol, Union{}, Tuple{}, NamedTuple{(), Tuple{}}}, Random._GLOBAL_RNG, DynamicPPL.Model{var\"#2#3\", (:y_data,), (), (), Tuple{Vector{Float64}}, Tuple{}}, DynamicPPL.Sampler{HMC{Turing.Core.ZygoteAD, (), AdvancedHMC.UnitEuclideanMetric}}, Int64, Int64})()",
      "    @ AbstractMCMC ~/.julia/packages/AbstractMCMC/oou1a/src/logging.jl:11",
      " [30] with_logstate(f::Function, logstate::Any)",
      "    @ Base.CoreLogging ./logging.jl:511",
      " [31] with_logger(f::Function, logger::LoggingExtras.TeeLogger{Tuple{LoggingExtras.EarlyFilteredLogger{ConsoleProgressMonitor.ProgressLogger, AbstractMCMC.var\"#1#3\"{Module}}, LoggingExtras.EarlyFilteredLogger{Base.CoreLogging.SimpleLogger, AbstractMCMC.var\"#2#4\"{Module}}}})",
      "    @ Base.CoreLogging ./logging.jl:623",
      " [32] with_progresslogger(f::Function, _module::Module, logger::Base.CoreLogging.SimpleLogger)",
      "    @ AbstractMCMC ~/.julia/packages/AbstractMCMC/oou1a/src/logging.jl:34",
      " [33] macro expansion",
      "    @ ~/.julia/packages/AbstractMCMC/oou1a/src/logging.jl:10 [inlined]",
      " [34] mcmcsample(rng::Random._GLOBAL_RNG, model::DynamicPPL.Model{var\"#2#3\", (:y_data,), (), (), Tuple{Vector{Float64}}, Tuple{}}, sampler::DynamicPPL.Sampler{HMC{Turing.Core.ZygoteAD, (), AdvancedHMC.UnitEuclideanMetric}}, N::Int64; progress::Bool, progressname::String, callback::Nothing, discard_initial::Int64, thinning::Int64, chain_type::Type, kwargs::Base.Pairs{Symbol, Union{}, Tuple{}, NamedTuple{(), Tuple{}}})",
      "    @ AbstractMCMC ~/.julia/packages/AbstractMCMC/oou1a/src/sample.jl:88",
      " [35] sample(rng::Random._GLOBAL_RNG, model::DynamicPPL.Model{var\"#2#3\", (:y_data,), (), (), Tuple{Vector{Float64}}, Tuple{}}, sampler::DynamicPPL.Sampler{HMC{Turing.Core.ZygoteAD, (), AdvancedHMC.UnitEuclideanMetric}}, N::Int64; chain_type::Type, resume_from::Nothing, progress::Bool, kwargs::Base.Pairs{Symbol, Union{}, Tuple{}, NamedTuple{(), Tuple{}}})",
      "    @ Turing.Inference ~/.julia/packages/Turing/uAz5c/src/inference/Inference.jl:156",
      " [36] sample",
      "    @ ~/.julia/packages/Turing/uAz5c/src/inference/Inference.jl:155 [inlined]",
      " [37] #sample#2",
      "    @ ~/.julia/packages/Turing/uAz5c/src/inference/Inference.jl:142 [inlined]",
      " [38] sample",
      "    @ ~/.julia/packages/Turing/uAz5c/src/inference/Inference.jl:142 [inlined]",
      " [39] #sample#1",
      "    @ ~/.julia/packages/Turing/uAz5c/src/inference/Inference.jl:132 [inlined]",
      " [40] sample(model::DynamicPPL.Model{var\"#2#3\", (:y_data,), (), (), Tuple{Vector{Float64}}, Tuple{}}, alg::HMC{Turing.Core.ZygoteAD, (), AdvancedHMC.UnitEuclideanMetric}, N::Int64)",
      "    @ Turing.Inference ~/.julia/packages/Turing/uAz5c/src/inference/Inference.jl:132",
      " [41] top-level scope",
      "    @ In[12]:1",
      " [42] eval",
      "    @ ./boot.jl:373 [inlined]",
      " [43] include_string(mapexpr::typeof(REPL.softscope), mod::Module, code::String, filename::String)",
      "    @ Base ./loading.jl:1196"
     ]
    }
   ],
   "source": [
    "chain = sample(model, HMC(0.1, 10), 10^4)"
   ]
  },
  {
   "cell_type": "code",
   "execution_count": null,
   "id": "bdff64ac-6c3c-4171-a582-6a5af7940142",
   "metadata": {},
   "outputs": [],
   "source": []
  }
 ],
 "metadata": {
  "kernelspec": {
   "display_name": "Julia 1.7.2",
   "language": "julia",
   "name": "julia-1.7"
  },
  "language_info": {
   "file_extension": ".jl",
   "mimetype": "application/julia",
   "name": "julia",
   "version": "1.7.2"
  }
 },
 "nbformat": 4,
 "nbformat_minor": 5
}
