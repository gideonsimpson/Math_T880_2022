{
 "cells": [
  {
   "cell_type": "code",
   "execution_count": null,
   "id": "62ff4ca8-22be-4d8b-ac97-6164f6f9b597",
   "metadata": {},
   "outputs": [],
   "source": [
    "using Turing\n",
    "using Random\n",
    "using Statistics\n",
    "using Distributions\n",
    "using StatsPlots\n",
    "using LaTeXStrings\n",
    "using DataFrames\n",
    "using FFTW\n",
    "using Dierckx"
   ]
  },
  {
   "cell_type": "code",
   "execution_count": null,
   "id": "20210eda-b0a6-47c5-a1fb-a5a8b97fb934",
   "metadata": {},
   "outputs": [],
   "source": [
    "default(xtickfont=font(14),  ytickfont=font(14), guidefont=font(14), \n",
    "    legendfontsize=12, lw=2, ms=8)"
   ]
  },
  {
   "cell_type": "code",
   "execution_count": null,
   "id": "9948b503-c4b1-442d-ad1d-7d77d5f72fcb",
   "metadata": {},
   "outputs": [],
   "source": [
    "N = 32;\n",
    "γ = 0.01;\n",
    "x = LinRange(0,1,N+1)[2:end-1];\n",
    "\n",
    "# true value that we wish to recover\n",
    "# x_data = [0.2, 0.4, 0.6, 0.8];\n",
    "# n_data = length(x_data);\n",
    "uᵗ(x) = x*(1-x);\n",
    "\n",
    "Random.seed!(500); # set a seed for reproducibility\n",
    "y_data = @. uᵗ(x) + γ * randn()"
   ]
  },
  {
   "cell_type": "code",
   "execution_count": null,
   "id": "285e15c7-b210-431d-ae4e-bf8ea9381bb5",
   "metadata": {},
   "outputs": [],
   "source": [
    "plot(x, uᵗ.(x))\n",
    "scatter!(x, y_data)"
   ]
  },
  {
   "cell_type": "code",
   "execution_count": null,
   "id": "4c0e80ba-ae61-43d9-854c-3b7c942c54ee",
   "metadata": {},
   "outputs": [],
   "source": [
    "\"\"\"\n",
    "`build_field` - Build a mean zero Gaussian random field with the (-Δ)^{-α} covariance operator in dimension one\n",
    "\n",
    "### Fields\n",
    "`ξ`   - Vector of N(0,1) values  \n",
    "`α=1` - Smoothness parameter\n",
    "\"\"\"\n",
    "function build_field(ξ; α=1)\n",
    "    N = length(ξ)\n",
    "    \n",
    "    uhat = zeros(ComplexF64,2*N); # preallocate space\n",
    "\n",
    "    # construct the eigenvalues\n",
    "    k = 1:N;\n",
    "    λ = @. 1/(π*k)^(2*α);\n",
    "\n",
    "    # fill in the nonzero entries\n",
    "    # NOTE we need to multiply by 2 *N for FFT scaling\n",
    "    @. uhat[2:N+1] = 2 * N * sqrt(λ) * sqrt(2) * ξ;\n",
    "\n",
    "    # invert and get the relevant imaginary part\n",
    "    u = imag.(ifft(uhat))[N+2:end];\n",
    "    return u\n",
    "end"
   ]
  },
  {
   "cell_type": "code",
   "execution_count": null,
   "id": "ec821e44-30e1-4829-9c65-8db9b84fae02",
   "metadata": {},
   "outputs": [],
   "source": [
    "@model function mean_recovery(y_data)\n",
    "    ξ ~ MvNormal(zeros(N), 1.)\n",
    "    u = build_field(ξ);\n",
    "    \n",
    "    for i in 1:length(y_data)\n",
    "       y_data[i]~Normal(u[i], γ^2)\n",
    "    end\n",
    "    \n",
    "end"
   ]
  },
  {
   "cell_type": "code",
   "execution_count": null,
   "id": "3ce6dde8-9b47-4a44-b508-9d1f1d2be652",
   "metadata": {},
   "outputs": [],
   "source": [
    "model=mean_recovery(y_data)"
   ]
  },
  {
   "cell_type": "code",
   "execution_count": null,
   "id": "a2ea3af0-e9a2-4b8f-bef8-c79ad91c5d91",
   "metadata": {},
   "outputs": [],
   "source": [
    "chain = sample(model, HMC(0.1, 10), 10^4)"
   ]
  },
  {
   "cell_type": "code",
   "execution_count": null,
   "id": "bdff64ac-6c3c-4171-a582-6a5af7940142",
   "metadata": {},
   "outputs": [],
   "source": []
  }
 ],
 "metadata": {
  "kernelspec": {
   "display_name": "Julia 1.7.2",
   "language": "julia",
   "name": "julia-1.7"
  },
  "language_info": {
   "file_extension": ".jl",
   "mimetype": "application/julia",
   "name": "julia",
   "version": "1.7.2"
  }
 },
 "nbformat": 4,
 "nbformat_minor": 5
}
